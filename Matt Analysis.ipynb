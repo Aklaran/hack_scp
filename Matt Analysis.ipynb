{
 "cells": [
  {
   "cell_type": "code",
   "execution_count": 2,
   "metadata": {},
   "outputs": [],
   "source": [
    "import pandas as pd\n",
    "import numpy as np\n",
    "from scipy.stats import entropy\n",
    "import math\n",
    "from collections import Counter\n",
    "import matplotlib.pyplot as plt\n",
    "import statistics"
   ]
  },
  {
   "cell_type": "markdown",
   "metadata": {},
   "source": [
    "# Read and Combine Data"
   ]
  },
  {
   "cell_type": "code",
   "execution_count": 3,
   "metadata": {},
   "outputs": [],
   "source": [
    "languages = ['chinese', 'german', 'french', 'thai', 'japanese', 'spanish', 'italian', 'korean', 'russian', 'portuguese']\n",
    "languageColumns = ['Author', 'Date', 'Rating', 'AuthorKarma']"
   ]
  },
  {
   "cell_type": "code",
   "execution_count": 4,
   "metadata": {},
   "outputs": [],
   "source": [
    "dfs = []\n",
    "for language in languages:\n",
    "    d = pd.read_csv('data/' + language + '.csv')\n",
    "    d['originalLanguage'] = language\n",
    "    \n",
    "    for column in languageColumns:\n",
    "        d['original' + column] = d[language + column]\n",
    "        d = d.drop([language + column], axis=1)\n",
    "    \n",
    "    dfs.append(d)\n",
    "\n",
    "data = pd.concat(dfs, axis=0, ignore_index=True)\n",
    "    "
   ]
  },
  {
   "cell_type": "code",
   "execution_count": 5,
   "metadata": {},
   "outputs": [
    {
     "data": {
      "text/plain": [
       "219"
      ]
     },
     "execution_count": 5,
     "metadata": {},
     "output_type": "execute_result"
    }
   ],
   "source": [
    "len(data)"
   ]
  },
  {
   "cell_type": "code",
   "execution_count": 6,
   "metadata": {},
   "outputs": [],
   "source": [
    "# add the texts\n",
    "data['originalText'] = data.apply(lambda x: open('data/' + x['originalLanguage'] + \"Originals/\" + x['scpId'] + '.txt').read(), axis=1)\n",
    "data['englishText'] = data.apply(lambda x: open('data/englishFrom' + x['originalLanguage'].capitalize() + \"/\" + x['scpId'] + '.txt').read(), axis=1)"
   ]
  },
  {
   "cell_type": "code",
   "execution_count": 7,
   "metadata": {},
   "outputs": [
    {
     "data": {
      "text/html": [
       "<div>\n",
       "<style scoped>\n",
       "    .dataframe tbody tr th:only-of-type {\n",
       "        vertical-align: middle;\n",
       "    }\n",
       "\n",
       "    .dataframe tbody tr th {\n",
       "        vertical-align: top;\n",
       "    }\n",
       "\n",
       "    .dataframe thead th {\n",
       "        text-align: right;\n",
       "    }\n",
       "</style>\n",
       "<table border=\"1\" class=\"dataframe\">\n",
       "  <thead>\n",
       "    <tr style=\"text-align: right;\">\n",
       "      <th></th>\n",
       "      <th>scpId</th>\n",
       "      <th>href</th>\n",
       "      <th>name</th>\n",
       "      <th>englishRating</th>\n",
       "      <th>englishDate</th>\n",
       "      <th>englishAuthor</th>\n",
       "      <th>englishAuthorKarma</th>\n",
       "      <th>originalLanguage</th>\n",
       "      <th>originalAuthor</th>\n",
       "      <th>originalDate</th>\n",
       "      <th>originalRating</th>\n",
       "      <th>originalAuthorKarma</th>\n",
       "      <th>originalText</th>\n",
       "      <th>englishText</th>\n",
       "    </tr>\n",
       "  </thead>\n",
       "  <tbody>\n",
       "    <tr>\n",
       "      <th>0</th>\n",
       "      <td>SCP-CN-1000</td>\n",
       "      <td>/scp-cn-1000</td>\n",
       "      <td>2300</td>\n",
       "      <td>+12,+12,+12,+12</td>\n",
       "      <td>29 Mar 2019 00:01</td>\n",
       "      <td>Cynthia7979</td>\n",
       "      <td>very high</td>\n",
       "      <td>chinese</td>\n",
       "      <td>Infas12</td>\n",
       "      <td>30 Oct 2018 15:25</td>\n",
       "      <td>+574,+574,+574,+574</td>\n",
       "      <td>very high</td>\n",
       "      <td>\\n                        \\n\\n\\n\\n\\n\\n\\n评分: +5...</td>\n",
       "      <td>\\n                        \\n\\n\\n\\n\\n\\n\\nrating...</td>\n",
       "    </tr>\n",
       "    <tr>\n",
       "      <th>1</th>\n",
       "      <td>SCP-CN-994</td>\n",
       "      <td>/scp-cn-994</td>\n",
       "      <td>I See You</td>\n",
       "      <td>+26</td>\n",
       "      <td>18 Mar 2018 07:50</td>\n",
       "      <td>W Asriel</td>\n",
       "      <td>guru</td>\n",
       "      <td>chinese</td>\n",
       "      <td>AndyBlocker</td>\n",
       "      <td>11 Mar 2018 01:28</td>\n",
       "      <td>+858</td>\n",
       "      <td>high</td>\n",
       "      <td>\\n                        \\n\\n评分: +858+–x\\n\\n\\...</td>\n",
       "      <td>\\n                        \\n\\nrating: +26+–x\\n...</td>\n",
       "    </tr>\n",
       "    <tr>\n",
       "      <th>2</th>\n",
       "      <td>SCP-CN-918</td>\n",
       "      <td>/scp-cn-918</td>\n",
       "      <td>NaN</td>\n",
       "      <td>+4</td>\n",
       "      <td>04 May 2018 14:48</td>\n",
       "      <td>Idokoe</td>\n",
       "      <td>high</td>\n",
       "      <td>chinese</td>\n",
       "      <td>qjfoidnh</td>\n",
       "      <td>29 Apr 2018 15:46</td>\n",
       "      <td>+49</td>\n",
       "      <td>very high</td>\n",
       "      <td>\\n                        \\n\\n评分: +49+–x\\n\\n\\n...</td>\n",
       "      <td>\\n                        \\n\\nrating: +4+–x\\n\\...</td>\n",
       "    </tr>\n",
       "    <tr>\n",
       "      <th>3</th>\n",
       "      <td>SCP-CN-844</td>\n",
       "      <td>/scp-cn-844</td>\n",
       "      <td>The Seed of Lovesickness</td>\n",
       "      <td>0</td>\n",
       "      <td>20 Jul 2018 07:09</td>\n",
       "      <td>Cynthia7979</td>\n",
       "      <td>very high</td>\n",
       "      <td>chinese</td>\n",
       "      <td>Cynthia7979</td>\n",
       "      <td>02 Jun 2018 14:48</td>\n",
       "      <td>+19</td>\n",
       "      <td>very high</td>\n",
       "      <td>\\n                        \\n\\n评分: +19+–x\\n项目编号...</td>\n",
       "      <td>\\n                        \\n\\nrating: 0+–x\\nIt...</td>\n",
       "    </tr>\n",
       "    <tr>\n",
       "      <th>4</th>\n",
       "      <td>SCP-CN-767</td>\n",
       "      <td>/scp-cn-767</td>\n",
       "      <td>Chart Syndrome</td>\n",
       "      <td>+11</td>\n",
       "      <td>10 Aug 2018 14:28</td>\n",
       "      <td>KirkeStein</td>\n",
       "      <td>high</td>\n",
       "      <td>chinese</td>\n",
       "      <td>breaddddd</td>\n",
       "      <td>15 Feb 2018 09:08</td>\n",
       "      <td>+118</td>\n",
       "      <td>very high</td>\n",
       "      <td>\\n                        \\n\\n评分: +118+–x\\n\\n\\...</td>\n",
       "      <td>\\n                        \\n\\nrating: +11+–x\\n...</td>\n",
       "    </tr>\n",
       "  </tbody>\n",
       "</table>\n",
       "</div>"
      ],
      "text/plain": [
       "         scpId          href                      name    englishRating  \\\n",
       "0  SCP-CN-1000  /scp-cn-1000                      2300  +12,+12,+12,+12   \n",
       "1   SCP-CN-994   /scp-cn-994                 I See You              +26   \n",
       "2   SCP-CN-918   /scp-cn-918                       NaN               +4   \n",
       "3   SCP-CN-844   /scp-cn-844  The Seed of Lovesickness                0   \n",
       "4   SCP-CN-767   /scp-cn-767            Chart Syndrome              +11   \n",
       "\n",
       "         englishDate englishAuthor englishAuthorKarma originalLanguage  \\\n",
       "0  29 Mar 2019 00:01   Cynthia7979          very high          chinese   \n",
       "1  18 Mar 2018 07:50      W Asriel               guru          chinese   \n",
       "2  04 May 2018 14:48        Idokoe               high          chinese   \n",
       "3  20 Jul 2018 07:09   Cynthia7979          very high          chinese   \n",
       "4  10 Aug 2018 14:28    KirkeStein               high          chinese   \n",
       "\n",
       "  originalAuthor       originalDate       originalRating originalAuthorKarma  \\\n",
       "0        Infas12  30 Oct 2018 15:25  +574,+574,+574,+574           very high   \n",
       "1    AndyBlocker  11 Mar 2018 01:28                 +858                high   \n",
       "2       qjfoidnh  29 Apr 2018 15:46                  +49           very high   \n",
       "3    Cynthia7979  02 Jun 2018 14:48                  +19           very high   \n",
       "4      breaddddd  15 Feb 2018 09:08                 +118           very high   \n",
       "\n",
       "                                        originalText  \\\n",
       "0  \\n                        \\n\\n\\n\\n\\n\\n\\n评分: +5...   \n",
       "1  \\n                        \\n\\n评分: +858+–x\\n\\n\\...   \n",
       "2  \\n                        \\n\\n评分: +49+–x\\n\\n\\n...   \n",
       "3  \\n                        \\n\\n评分: +19+–x\\n项目编号...   \n",
       "4  \\n                        \\n\\n评分: +118+–x\\n\\n\\...   \n",
       "\n",
       "                                         englishText  \n",
       "0  \\n                        \\n\\n\\n\\n\\n\\n\\nrating...  \n",
       "1  \\n                        \\n\\nrating: +26+–x\\n...  \n",
       "2  \\n                        \\n\\nrating: +4+–x\\n\\...  \n",
       "3  \\n                        \\n\\nrating: 0+–x\\nIt...  \n",
       "4  \\n                        \\n\\nrating: +11+–x\\n...  "
      ]
     },
     "execution_count": 7,
     "metadata": {},
     "output_type": "execute_result"
    }
   ],
   "source": [
    "data.head()"
   ]
  },
  {
   "cell_type": "markdown",
   "metadata": {},
   "source": [
    "# Clean the Data"
   ]
  },
  {
   "cell_type": "code",
   "execution_count": 8,
   "metadata": {},
   "outputs": [],
   "source": [
    "cleaned = data.drop(['name', 'href'], axis=1)"
   ]
  },
  {
   "cell_type": "code",
   "execution_count": 9,
   "metadata": {},
   "outputs": [],
   "source": [
    "# fix up ratings\n",
    "ratingColumns = ['originalRating', 'englishRating']\n",
    "for column in ratingColumns:\n",
    "    cleaned[column] = cleaned[column].map(lambda x: float(str(x).split(',')[0]))\n",
    "    mask = cleaned[column].apply(lambda x: not math.isnan(x))\n",
    "    cleaned = cleaned[mask]"
   ]
  },
  {
   "cell_type": "code",
   "execution_count": 10,
   "metadata": {},
   "outputs": [],
   "source": [
    "# tokenize the text\n",
    "#charLanguages = ['chinese', 'japanese', 'korean', 'thai']\n",
    "#charLanguages = []\n",
    "charLanguages = ['chinese', 'japanese', 'thai']\n",
    "cleaned['englishText'] = cleaned['englishText'].apply(lambda x: x.split())\n",
    "cleaned['originalText'] = cleaned.apply(lambda x: list(x['originalText']) if x['originalLanguage'] in charLanguages else x['originalText'].split(), axis=1)"
   ]
  },
  {
   "cell_type": "code",
   "execution_count": 11,
   "metadata": {},
   "outputs": [],
   "source": [
    "# remove whitespace\n",
    "cleaned['originalText'] = cleaned['originalText'].apply(lambda y: list(filter(lambda x: not x.isspace(), y)))\n",
    "cleaned['englishText'] = cleaned['englishText'].apply(lambda y: list(filter(lambda x: not x.isspace(), y)))"
   ]
  },
  {
   "cell_type": "code",
   "execution_count": 12,
   "metadata": {},
   "outputs": [
    {
     "data": {
      "text/html": [
       "<div>\n",
       "<style scoped>\n",
       "    .dataframe tbody tr th:only-of-type {\n",
       "        vertical-align: middle;\n",
       "    }\n",
       "\n",
       "    .dataframe tbody tr th {\n",
       "        vertical-align: top;\n",
       "    }\n",
       "\n",
       "    .dataframe thead th {\n",
       "        text-align: right;\n",
       "    }\n",
       "</style>\n",
       "<table border=\"1\" class=\"dataframe\">\n",
       "  <thead>\n",
       "    <tr style=\"text-align: right;\">\n",
       "      <th></th>\n",
       "      <th>scpId</th>\n",
       "      <th>englishRating</th>\n",
       "      <th>englishDate</th>\n",
       "      <th>englishAuthor</th>\n",
       "      <th>englishAuthorKarma</th>\n",
       "      <th>originalLanguage</th>\n",
       "      <th>originalAuthor</th>\n",
       "      <th>originalDate</th>\n",
       "      <th>originalRating</th>\n",
       "      <th>originalAuthorKarma</th>\n",
       "      <th>originalText</th>\n",
       "      <th>englishText</th>\n",
       "    </tr>\n",
       "  </thead>\n",
       "  <tbody>\n",
       "    <tr>\n",
       "      <th>0</th>\n",
       "      <td>SCP-CN-1000</td>\n",
       "      <td>12.0</td>\n",
       "      <td>29 Mar 2019 00:01</td>\n",
       "      <td>Cynthia7979</td>\n",
       "      <td>very high</td>\n",
       "      <td>chinese</td>\n",
       "      <td>Infas12</td>\n",
       "      <td>30 Oct 2018 15:25</td>\n",
       "      <td>574.0</td>\n",
       "      <td>very high</td>\n",
       "      <td>[评, 分, :, +, 5, 7, 4, +, –, x, 评, 分, :, +, 5, ...</td>\n",
       "      <td>[rating:, +12+–x, rating:, +12+–x, Credits, Or...</td>\n",
       "    </tr>\n",
       "    <tr>\n",
       "      <th>1</th>\n",
       "      <td>SCP-CN-994</td>\n",
       "      <td>26.0</td>\n",
       "      <td>18 Mar 2018 07:50</td>\n",
       "      <td>W Asriel</td>\n",
       "      <td>guru</td>\n",
       "      <td>chinese</td>\n",
       "      <td>AndyBlocker</td>\n",
       "      <td>11 Mar 2018 01:28</td>\n",
       "      <td>858.0</td>\n",
       "      <td>high</td>\n",
       "      <td>[评, 分, :, +, 8, 5, 8, +, –, x, «, S, C, P, -, ...</td>\n",
       "      <td>[rating:, +26+–x]</td>\n",
       "    </tr>\n",
       "    <tr>\n",
       "      <th>2</th>\n",
       "      <td>SCP-CN-918</td>\n",
       "      <td>4.0</td>\n",
       "      <td>04 May 2018 14:48</td>\n",
       "      <td>Idokoe</td>\n",
       "      <td>high</td>\n",
       "      <td>chinese</td>\n",
       "      <td>qjfoidnh</td>\n",
       "      <td>29 Apr 2018 15:46</td>\n",
       "      <td>49.0</td>\n",
       "      <td>very high</td>\n",
       "      <td>[评, 分, :, +, 4, 9, +, –, x, 静, 止, 状, 态, 的, S, ...</td>\n",
       "      <td>[rating:, +4+–x, SCP-CN-918, in, motionless, s...</td>\n",
       "    </tr>\n",
       "    <tr>\n",
       "      <th>3</th>\n",
       "      <td>SCP-CN-844</td>\n",
       "      <td>0.0</td>\n",
       "      <td>20 Jul 2018 07:09</td>\n",
       "      <td>Cynthia7979</td>\n",
       "      <td>very high</td>\n",
       "      <td>chinese</td>\n",
       "      <td>Cynthia7979</td>\n",
       "      <td>02 Jun 2018 14:48</td>\n",
       "      <td>19.0</td>\n",
       "      <td>very high</td>\n",
       "      <td>[评, 分, :, +, 1, 9, +, –, x, 项, 目, 编, 号, ：, S, ...</td>\n",
       "      <td>[rating:, 0+–x, Item, #:, SCP-CN-844, Object, ...</td>\n",
       "    </tr>\n",
       "    <tr>\n",
       "      <th>4</th>\n",
       "      <td>SCP-CN-767</td>\n",
       "      <td>11.0</td>\n",
       "      <td>10 Aug 2018 14:28</td>\n",
       "      <td>KirkeStein</td>\n",
       "      <td>high</td>\n",
       "      <td>chinese</td>\n",
       "      <td>breaddddd</td>\n",
       "      <td>15 Feb 2018 09:08</td>\n",
       "      <td>118.0</td>\n",
       "      <td>very high</td>\n",
       "      <td>[评, 分, :, +, 1, 1, 8, +, –, x, +, 回, 收, 记, 录, ...</td>\n",
       "      <td>[rating:, +11+–x, +, Containment, Record, -, C...</td>\n",
       "    </tr>\n",
       "  </tbody>\n",
       "</table>\n",
       "</div>"
      ],
      "text/plain": [
       "         scpId  englishRating        englishDate englishAuthor  \\\n",
       "0  SCP-CN-1000           12.0  29 Mar 2019 00:01   Cynthia7979   \n",
       "1   SCP-CN-994           26.0  18 Mar 2018 07:50      W Asriel   \n",
       "2   SCP-CN-918            4.0  04 May 2018 14:48        Idokoe   \n",
       "3   SCP-CN-844            0.0  20 Jul 2018 07:09   Cynthia7979   \n",
       "4   SCP-CN-767           11.0  10 Aug 2018 14:28    KirkeStein   \n",
       "\n",
       "  englishAuthorKarma originalLanguage originalAuthor       originalDate  \\\n",
       "0          very high          chinese        Infas12  30 Oct 2018 15:25   \n",
       "1               guru          chinese    AndyBlocker  11 Mar 2018 01:28   \n",
       "2               high          chinese       qjfoidnh  29 Apr 2018 15:46   \n",
       "3          very high          chinese    Cynthia7979  02 Jun 2018 14:48   \n",
       "4               high          chinese      breaddddd  15 Feb 2018 09:08   \n",
       "\n",
       "   originalRating originalAuthorKarma  \\\n",
       "0           574.0           very high   \n",
       "1           858.0                high   \n",
       "2            49.0           very high   \n",
       "3            19.0           very high   \n",
       "4           118.0           very high   \n",
       "\n",
       "                                        originalText  \\\n",
       "0  [评, 分, :, +, 5, 7, 4, +, –, x, 评, 分, :, +, 5, ...   \n",
       "1  [评, 分, :, +, 8, 5, 8, +, –, x, «, S, C, P, -, ...   \n",
       "2  [评, 分, :, +, 4, 9, +, –, x, 静, 止, 状, 态, 的, S, ...   \n",
       "3  [评, 分, :, +, 1, 9, +, –, x, 项, 目, 编, 号, ：, S, ...   \n",
       "4  [评, 分, :, +, 1, 1, 8, +, –, x, +, 回, 收, 记, 录, ...   \n",
       "\n",
       "                                         englishText  \n",
       "0  [rating:, +12+–x, rating:, +12+–x, Credits, Or...  \n",
       "1                                  [rating:, +26+–x]  \n",
       "2  [rating:, +4+–x, SCP-CN-918, in, motionless, s...  \n",
       "3  [rating:, 0+–x, Item, #:, SCP-CN-844, Object, ...  \n",
       "4  [rating:, +11+–x, +, Containment, Record, -, C...  "
      ]
     },
     "execution_count": 12,
     "metadata": {},
     "output_type": "execute_result"
    }
   ],
   "source": [
    "cleaned.head()"
   ]
  },
  {
   "cell_type": "markdown",
   "metadata": {},
   "source": [
    "# Math and Stuff"
   ]
  },
  {
   "cell_type": "code",
   "execution_count": 13,
   "metadata": {},
   "outputs": [],
   "source": [
    "df = cleaned"
   ]
  },
  {
   "cell_type": "code",
   "execution_count": 14,
   "metadata": {},
   "outputs": [],
   "source": [
    "df['originalEntropy'] = df.apply(lambda x: entropy(list(map(lambda y: y / len(x['originalText']), Counter(x['originalText']).values()))), axis=1)"
   ]
  },
  {
   "cell_type": "code",
   "execution_count": 15,
   "metadata": {},
   "outputs": [],
   "source": [
    "df['englishEntropy'] = df.apply(lambda x: entropy(list(map(lambda y: y / len(x['englishText']), Counter(x['englishText']).values()))), axis=1)"
   ]
  },
  {
   "cell_type": "code",
   "execution_count": 16,
   "metadata": {},
   "outputs": [
    {
     "data": {
      "image/png": "[encoded data removed]",
      "text/plain": [
       "<Figure size 1080x360 with 1 Axes>"
      ]
     },
     "metadata": {
      "needs_background": "light"
     },
     "output_type": "display_data"
    }
   ],
   "source": [
    "originalEntropy = df.groupby('originalLanguage').apply(lambda x: statistics.mean(x['originalEntropy']))\n",
    "englishEntropy = df.groupby('originalLanguage').apply(lambda x: statistics.mean(x['englishEntropy']))\n",
    "\n",
    "y_pos = np.arange(len(languages))\n",
    "plt.figure(figsize=(15,5))\n",
    "plt.bar(y_pos, englishEntropy.values - originalEntropy.values)\n",
    "plt.xticks(y_pos, originalEntropy.index)\n",
    "plt.show()"
   ]
  },
  {
   "cell_type": "code",
   "execution_count": 36,
   "metadata": {},
   "outputs": [],
   "source": [
    "# z score entropy\n",
    "averageEnglishEntropy = statistics.mean(df['englishEntropy'])\n",
    "averageOriginalEntropy = df.groupby('originalLanguage').apply(lambda x: statistics.mean(x['originalEntropy']))\n",
    "stdevEnglishEntropy = statistics.stdev(df['englishEntropy'])\n",
    "stdevOriginalEntropy = df.groupby('originalLanguage').apply(lambda x: statistics.stdev(x['originalEntropy']))\n",
    "df['normalizedEnglishEntropy'] = df['englishEntropy'].apply(lambda x: (x - averageEnglishEntropy) / stdevEnglishEntropy)\n",
    "df['normalizedOrginalEntropy'] = df.apply(lambda x: (x['originalEntropy'] - averageOriginalEntropy[x['originalLanguage']]) / stdevOriginalEntropy[x['originalLanguage']], axis=1)"
   ]
  },
  {
   "cell_type": "code",
   "execution_count": 40,
   "metadata": {},
   "outputs": [
    {
     "data": {
      "image/png": "[encoded data removed]",
      "text/plain": [
       "<Figure size 432x288 with 1 Axes>"
      ]
     },
     "metadata": {
      "needs_background": "light"
     },
     "output_type": "display_data"
    }
   ],
   "source": [
    "plt.scatter(df['normalizedOrginalEntropy'], df['normalizedEnglishEntropy'])\n",
    "plt.show()"
   ]
  },
  {
   "cell_type": "code",
   "execution_count": 43,
   "metadata": {},
   "outputs": [],
   "source": [
    "# z score upvotes\n",
    "averageEnglishRating = statistics.mean(df['englishRating'])\n",
    "averageOriginalRating = df.groupby('originalLanguage').apply(lambda x: statistics.mean(x['originalRating']))\n",
    "stdevEnglishRating = statistics.stdev(df['englishRating'])\n",
    "stdevOriginalRating = df.groupby('originalLanguage').apply(lambda x: statistics.stdev(x['originalRating']))\n",
    "df['normalizedEnglishRating'] = df['englishRating'].apply(lambda x: (x - averageEnglishRating) / stdevEnglishRating)\n",
    "df['normalizedOrginalRating'] = df.apply(lambda x: (x['originalRating'] - averageOriginalRating[x['originalLanguage']]) / stdevOriginalRating[x['originalLanguage']], axis=1)"
   ]
  },
  {
   "cell_type": "code",
   "execution_count": 45,
   "metadata": {},
   "outputs": [
    {
     "data": {
      "image/png": "[encoded data removed]",
      "text/plain": [
       "<Figure size 432x288 with 1 Axes>"
      ]
     },
     "metadata": {
      "needs_background": "light"
     },
     "output_type": "display_data"
    }
   ],
   "source": [
    "plt.scatter(df['normalizedOrginalRating'], df['normalizedEnglishRating'])\n",
    "plt.show()"
   ]
  },
  {
   "cell_type": "code",
   "execution_count": 50,
   "metadata": {},
   "outputs": [],
   "source": [
    "# log rating\n",
    "zero = 0.1\n",
    "df['logEnglishRating'] = df['englishRating'].apply(lambda x: np.log(x) if x != 0 else np.log(zero))\n",
    "df['logOriginalRating'] = df['originalRating'].apply(lambda x: np.log(x) if x != 0 else np.log(zero))"
   ]
  },
  {
   "cell_type": "code",
   "execution_count": 52,
   "metadata": {},
   "outputs": [],
   "source": [
    "# z score log rating\n",
    "# z score upvotes\n",
    "averageLogEnglishRating = statistics.mean(df['logEnglishRating'])\n",
    "averageLogOriginalRating = df.groupby('originalLanguage').apply(lambda x: statistics.mean(x['logOriginalRating']))\n",
    "stdevLogEnglishRating = statistics.stdev(df['logEnglishRating'])\n",
    "stdevLogOriginalRating = df.groupby('originalLanguage').apply(lambda x: statistics.stdev(x['logOriginalRating']))\n",
    "df['normalizedLogEnglishRating'] = df['logEnglishRating'].apply(lambda x: (x - averageLogEnglishRating) / stdevLogEnglishRating)\n",
    "df['normalizedLogOrginalRating'] = df.apply(lambda x: (x['logOriginalRating'] - averageLogOriginalRating[x['originalLanguage']]) / stdevLogOriginalRating[x['originalLanguage']], axis=1)"
   ]
  },
  {
   "cell_type": "code",
   "execution_count": 53,
   "metadata": {},
   "outputs": [
    {
     "data": {
      "image/png": "[encoded data removed]",
      "text/plain": [
       "<Figure size 432x288 with 1 Axes>"
      ]
     },
     "metadata": {
      "needs_background": "light"
     },
     "output_type": "display_data"
    }
   ],
   "source": [
    "plt.scatter(df['normalizedLogOrginalRating'], df['normalizedLogEnglishRating'])\n",
    "plt.show()"
   ]
  },
  {
   "cell_type": "code",
   "execution_count": 54,
   "metadata": {},
   "outputs": [
    {
     "data": {
      "text/html": [
       "<div>\n",
       "<style scoped>\n",
       "    .dataframe tbody tr th:only-of-type {\n",
       "        vertical-align: middle;\n",
       "    }\n",
       "\n",
       "    .dataframe tbody tr th {\n",
       "        vertical-align: top;\n",
       "    }\n",
       "\n",
       "    .dataframe thead th {\n",
       "        text-align: right;\n",
       "    }\n",
       "</style>\n",
       "<table border=\"1\" class=\"dataframe\">\n",
       "  <thead>\n",
       "    <tr style=\"text-align: right;\">\n",
       "      <th></th>\n",
       "      <th>scpId</th>\n",
       "      <th>englishRating</th>\n",
       "      <th>englishDate</th>\n",
       "      <th>englishAuthor</th>\n",
       "      <th>englishAuthorKarma</th>\n",
       "      <th>originalLanguage</th>\n",
       "      <th>originalAuthor</th>\n",
       "      <th>originalDate</th>\n",
       "      <th>originalRating</th>\n",
       "      <th>originalAuthorKarma</th>\n",
       "      <th>...</th>\n",
       "      <th>originalEntropy</th>\n",
       "      <th>englishEntropy</th>\n",
       "      <th>normalizedEnglishEntropy</th>\n",
       "      <th>normalizedOrginalEntropy</th>\n",
       "      <th>normalizedEnglishRating</th>\n",
       "      <th>normalizedOrginalRating</th>\n",
       "      <th>logEnglishRating</th>\n",
       "      <th>logOriginalRating</th>\n",
       "      <th>normalizedLogEnglishRating</th>\n",
       "      <th>normalizedLogOrginalRating</th>\n",
       "    </tr>\n",
       "  </thead>\n",
       "  <tbody>\n",
       "    <tr>\n",
       "      <th>0</th>\n",
       "      <td>SCP-CN-1000</td>\n",
       "      <td>12.0</td>\n",
       "      <td>29 Mar 2019 00:01</td>\n",
       "      <td>Cynthia7979</td>\n",
       "      <td>very high</td>\n",
       "      <td>chinese</td>\n",
       "      <td>Infas12</td>\n",
       "      <td>30 Oct 2018 15:25</td>\n",
       "      <td>574.0</td>\n",
       "      <td>very high</td>\n",
       "      <td>...</td>\n",
       "      <td>5.785991</td>\n",
       "      <td>6.013945</td>\n",
       "      <td>0.590733</td>\n",
       "      <td>0.806608</td>\n",
       "      <td>1.107338</td>\n",
       "      <td>1.677973</td>\n",
       "      <td>2.484907</td>\n",
       "      <td>6.352629</td>\n",
       "      <td>NaN</td>\n",
       "      <td>1.680044</td>\n",
       "    </tr>\n",
       "    <tr>\n",
       "      <th>1</th>\n",
       "      <td>SCP-CN-994</td>\n",
       "      <td>26.0</td>\n",
       "      <td>18 Mar 2018 07:50</td>\n",
       "      <td>W Asriel</td>\n",
       "      <td>guru</td>\n",
       "      <td>chinese</td>\n",
       "      <td>AndyBlocker</td>\n",
       "      <td>11 Mar 2018 01:28</td>\n",
       "      <td>858.0</td>\n",
       "      <td>high</td>\n",
       "      <td>...</td>\n",
       "      <td>2.700454</td>\n",
       "      <td>0.693147</td>\n",
       "      <td>-6.292733</td>\n",
       "      <td>-2.514344</td>\n",
       "      <td>3.591976</td>\n",
       "      <td>2.849803</td>\n",
       "      <td>3.258097</td>\n",
       "      <td>6.754604</td>\n",
       "      <td>NaN</td>\n",
       "      <td>2.028566</td>\n",
       "    </tr>\n",
       "    <tr>\n",
       "      <th>2</th>\n",
       "      <td>SCP-CN-918</td>\n",
       "      <td>4.0</td>\n",
       "      <td>04 May 2018 14:48</td>\n",
       "      <td>Idokoe</td>\n",
       "      <td>high</td>\n",
       "      <td>chinese</td>\n",
       "      <td>qjfoidnh</td>\n",
       "      <td>29 Apr 2018 15:46</td>\n",
       "      <td>49.0</td>\n",
       "      <td>very high</td>\n",
       "      <td>...</td>\n",
       "      <td>4.797172</td>\n",
       "      <td>4.774991</td>\n",
       "      <td>-1.012090</td>\n",
       "      <td>-0.257654</td>\n",
       "      <td>-0.312454</td>\n",
       "      <td>-0.488263</td>\n",
       "      <td>1.386294</td>\n",
       "      <td>3.891820</td>\n",
       "      <td>NaN</td>\n",
       "      <td>-0.453535</td>\n",
       "    </tr>\n",
       "    <tr>\n",
       "      <th>3</th>\n",
       "      <td>SCP-CN-844</td>\n",
       "      <td>0.0</td>\n",
       "      <td>20 Jul 2018 07:09</td>\n",
       "      <td>Cynthia7979</td>\n",
       "      <td>very high</td>\n",
       "      <td>chinese</td>\n",
       "      <td>Cynthia7979</td>\n",
       "      <td>02 Jun 2018 14:48</td>\n",
       "      <td>19.0</td>\n",
       "      <td>very high</td>\n",
       "      <td>...</td>\n",
       "      <td>5.343681</td>\n",
       "      <td>5.801107</td>\n",
       "      <td>0.315386</td>\n",
       "      <td>0.330552</td>\n",
       "      <td>-1.022351</td>\n",
       "      <td>-0.612048</td>\n",
       "      <td>-2.302585</td>\n",
       "      <td>2.944439</td>\n",
       "      <td>NaN</td>\n",
       "      <td>-1.274936</td>\n",
       "    </tr>\n",
       "    <tr>\n",
       "      <th>4</th>\n",
       "      <td>SCP-CN-767</td>\n",
       "      <td>11.0</td>\n",
       "      <td>10 Aug 2018 14:28</td>\n",
       "      <td>KirkeStein</td>\n",
       "      <td>high</td>\n",
       "      <td>chinese</td>\n",
       "      <td>breaddddd</td>\n",
       "      <td>15 Feb 2018 09:08</td>\n",
       "      <td>118.0</td>\n",
       "      <td>very high</td>\n",
       "      <td>...</td>\n",
       "      <td>3.184537</td>\n",
       "      <td>3.075841</td>\n",
       "      <td>-3.210265</td>\n",
       "      <td>-1.993327</td>\n",
       "      <td>0.929864</td>\n",
       "      <td>-0.203557</td>\n",
       "      <td>2.397895</td>\n",
       "      <td>4.770685</td>\n",
       "      <td>NaN</td>\n",
       "      <td>0.308461</td>\n",
       "    </tr>\n",
       "  </tbody>\n",
       "</table>\n",
       "<p>5 rows × 22 columns</p>\n",
       "</div>"
      ],
      "text/plain": [
       "         scpId  englishRating        englishDate englishAuthor  \\\n",
       "0  SCP-CN-1000           12.0  29 Mar 2019 00:01   Cynthia7979   \n",
       "1   SCP-CN-994           26.0  18 Mar 2018 07:50      W Asriel   \n",
       "2   SCP-CN-918            4.0  04 May 2018 14:48        Idokoe   \n",
       "3   SCP-CN-844            0.0  20 Jul 2018 07:09   Cynthia7979   \n",
       "4   SCP-CN-767           11.0  10 Aug 2018 14:28    KirkeStein   \n",
       "\n",
       "  englishAuthorKarma originalLanguage originalAuthor       originalDate  \\\n",
       "0          very high          chinese        Infas12  30 Oct 2018 15:25   \n",
       "1               guru          chinese    AndyBlocker  11 Mar 2018 01:28   \n",
       "2               high          chinese       qjfoidnh  29 Apr 2018 15:46   \n",
       "3          very high          chinese    Cynthia7979  02 Jun 2018 14:48   \n",
       "4               high          chinese      breaddddd  15 Feb 2018 09:08   \n",
       "\n",
       "   originalRating originalAuthorKarma             ...              \\\n",
       "0           574.0           very high             ...               \n",
       "1           858.0                high             ...               \n",
       "2            49.0           very high             ...               \n",
       "3            19.0           very high             ...               \n",
       "4           118.0           very high             ...               \n",
       "\n",
       "  originalEntropy englishEntropy  normalizedEnglishEntropy  \\\n",
       "0        5.785991       6.013945                  0.590733   \n",
       "1        2.700454       0.693147                 -6.292733   \n",
       "2        4.797172       4.774991                 -1.012090   \n",
       "3        5.343681       5.801107                  0.315386   \n",
       "4        3.184537       3.075841                 -3.210265   \n",
       "\n",
       "   normalizedOrginalEntropy  normalizedEnglishRating  normalizedOrginalRating  \\\n",
       "0                  0.806608                 1.107338                 1.677973   \n",
       "1                 -2.514344                 3.591976                 2.849803   \n",
       "2                 -0.257654                -0.312454                -0.488263   \n",
       "3                  0.330552                -1.022351                -0.612048   \n",
       "4                 -1.993327                 0.929864                -0.203557   \n",
       "\n",
       "   logEnglishRating  logOriginalRating  normalizedLogEnglishRating  \\\n",
       "0          2.484907           6.352629                         NaN   \n",
       "1          3.258097           6.754604                         NaN   \n",
       "2          1.386294           3.891820                         NaN   \n",
       "3         -2.302585           2.944439                         NaN   \n",
       "4          2.397895           4.770685                         NaN   \n",
       "\n",
       "   normalizedLogOrginalRating  \n",
       "0                    1.680044  \n",
       "1                    2.028566  \n",
       "2                   -0.453535  \n",
       "3                   -1.274936  \n",
       "4                    0.308461  \n",
       "\n",
       "[5 rows x 22 columns]"
      ]
     },
     "execution_count": 54,
     "metadata": {},
     "output_type": "execute_result"
    }
   ],
   "source": [
    "df.head()"
   ]
  },
  {
   "cell_type": "code",
   "execution_count": 57,
   "metadata": {},
   "outputs": [
    {
     "data": {
      "text/plain": [
       "nan"
      ]
     },
     "execution_count": 57,
     "metadata": {},
     "output_type": "execute_result"
    }
   ],
   "source": [
    "stdevLogEnglishRating"
   ]
  },
  {
   "cell_type": "code",
   "execution_count": 59,
   "metadata": {},
   "outputs": [
    {
     "data": {
      "text/plain": [
       "nan"
      ]
     },
     "execution_count": 59,
     "metadata": {},
     "output_type": "execute_result"
    }
   ],
   "source": [
    "statistics.stdev(df['logEnglishRating'])"
   ]
  },
  {
   "cell_type": "code",
   "execution_count": 60,
   "metadata": {},
   "outputs": [],
   "source": [
    "# giving up on that..."
   ]
  },
  {
   "cell_type": "code",
   "execution_count": 73,
   "metadata": {},
   "outputs": [],
   "source": [
    "df['deltaNormalizedEntropy'] = df['normalizedEnglishEntropy'] - df['normalizedOrginalEntropy']\n",
    "df['deltaNormalizedRating'] = df['normalizedEnglishRating'] - df['normalizedOrginalRating']"
   ]
  },
  {
   "cell_type": "code",
   "execution_count": 79,
   "metadata": {},
   "outputs": [
    {
     "name": "stdout",
     "output_type": "stream",
     "text": [
      "0         chinese\n",
      "1         chinese\n",
      "2         chinese\n",
      "3         chinese\n",
      "4         chinese\n",
      "5         chinese\n",
      "6         chinese\n",
      "7         chinese\n",
      "8         chinese\n",
      "9         chinese\n",
      "10        chinese\n",
      "11        chinese\n",
      "12        chinese\n",
      "13        chinese\n",
      "14        chinese\n",
      "15         german\n",
      "16         german\n",
      "17         german\n",
      "18         german\n",
      "19         german\n",
      "20         german\n",
      "21         german\n",
      "22         german\n",
      "23         german\n",
      "24         german\n",
      "25         german\n",
      "26         german\n",
      "27         german\n",
      "28         german\n",
      "29         german\n",
      "          ...    \n",
      "188        korean\n",
      "189        korean\n",
      "190        korean\n",
      "191        korean\n",
      "192        korean\n",
      "193        korean\n",
      "194        korean\n",
      "195        korean\n",
      "197        korean\n",
      "198       russian\n",
      "199       russian\n",
      "200       russian\n",
      "201       russian\n",
      "202       russian\n",
      "203       russian\n",
      "204       russian\n",
      "205       russian\n",
      "206    portuguese\n",
      "207    portuguese\n",
      "208    portuguese\n",
      "209    portuguese\n",
      "210    portuguese\n",
      "211    portuguese\n",
      "212    portuguese\n",
      "213    portuguese\n",
      "214    portuguese\n",
      "215    portuguese\n",
      "216    portuguese\n",
      "217    portuguese\n",
      "218    portuguese\n",
      "Name: originalLanguage, Length: 213, dtype: object\n"
     ]
    },
    {
     "data": {
      "image/png": "[encoded data removed]",
      "text/plain": [
       "<Figure size 432x288 with 1 Axes>"
      ]
     },
     "metadata": {
      "needs_background": "light"
     },
     "output_type": "display_data"
    }
   ],
   "source": [
    "def ratingVsEntropy(stuff):\n",
    "    print(stuff['originalLanguage'])\n",
    "    plt.scatter(stuff['deltaNormalizedRating'], stuff['deltaNormalizedEntropy'])\n",
    "    plt.show()\n",
    "ratingVsEntropy(df)"
   ]
  },
  {
   "cell_type": "code",
   "execution_count": 80,
   "metadata": {},
   "outputs": [
    {
     "name": "stdout",
     "output_type": "stream",
     "text": [
      "0     chinese\n",
      "1     chinese\n",
      "2     chinese\n",
      "3     chinese\n",
      "4     chinese\n",
      "5     chinese\n",
      "6     chinese\n",
      "7     chinese\n",
      "8     chinese\n",
      "9     chinese\n",
      "10    chinese\n",
      "11    chinese\n",
      "12    chinese\n",
      "13    chinese\n",
      "14    chinese\n",
      "Name: originalLanguage, dtype: object\n"
     ]
    },
    {
     "data": {
      "image/png": "[encoded data removed]",
      "text/plain": [
       "<Figure size 432x288 with 1 Axes>"
      ]
     },
     "metadata": {
      "needs_background": "light"
     },
     "output_type": "display_data"
    },
    {
     "name": "stdout",
     "output_type": "stream",
     "text": [
      "0     chinese\n",
      "1     chinese\n",
      "2     chinese\n",
      "3     chinese\n",
      "4     chinese\n",
      "5     chinese\n",
      "6     chinese\n",
      "7     chinese\n",
      "8     chinese\n",
      "9     chinese\n",
      "10    chinese\n",
      "11    chinese\n",
      "12    chinese\n",
      "13    chinese\n",
      "14    chinese\n",
      "Name: originalLanguage, dtype: object\n"
     ]
    },
    {
     "data": {
      "image/png": "[encoded data removed]",
      "text/plain": [
       "<Figure size 432x288 with 1 Axes>"
      ]
     },
     "metadata": {
      "needs_background": "light"
     },
     "output_type": "display_data"
    },
    {
     "name": "stdout",
     "output_type": "stream",
     "text": [
      "44    french\n",
      "45    french\n",
      "46    french\n",
      "47    french\n",
      "48    french\n",
      "49    french\n",
      "50    french\n",
      "51    french\n",
      "52    french\n",
      "53    french\n",
      "54    french\n",
      "55    french\n",
      "56    french\n",
      "57    french\n",
      "58    french\n",
      "59    french\n",
      "60    french\n",
      "61    french\n",
      "62    french\n",
      "63    french\n",
      "64    french\n",
      "65    french\n",
      "66    french\n",
      "67    french\n",
      "68    french\n",
      "69    french\n",
      "70    french\n",
      "71    french\n",
      "72    french\n",
      "73    french\n",
      "74    french\n",
      "75    french\n",
      "76    french\n",
      "77    french\n",
      "78    french\n",
      "79    french\n",
      "80    french\n",
      "81    french\n",
      "82    french\n",
      "83    french\n",
      "84    french\n",
      "Name: originalLanguage, dtype: object\n"
     ]
    },
    {
     "data": {
      "image/png": "[encoded data removed]",
      "text/plain": [
       "<Figure size 432x288 with 1 Axes>"
      ]
     },
     "metadata": {
      "needs_background": "light"
     },
     "output_type": "display_data"
    },
    {
     "name": "stdout",
     "output_type": "stream",
     "text": [
      "15    german\n",
      "16    german\n",
      "17    german\n",
      "18    german\n",
      "19    german\n",
      "20    german\n",
      "21    german\n",
      "22    german\n",
      "23    german\n",
      "24    german\n",
      "25    german\n",
      "26    german\n",
      "27    german\n",
      "28    german\n",
      "29    german\n",
      "30    german\n",
      "31    german\n",
      "32    german\n",
      "33    german\n",
      "34    german\n",
      "35    german\n",
      "36    german\n",
      "37    german\n",
      "38    german\n",
      "39    german\n",
      "40    german\n",
      "41    german\n",
      "42    german\n",
      "43    german\n",
      "Name: originalLanguage, dtype: object\n"
     ]
    },
    {
     "data": {
      "image/png": "[encoded data removed]",
      "text/plain": [
       "<Figure size 432x288 with 1 Axes>"
      ]
     },
     "metadata": {
      "needs_background": "light"
     },
     "output_type": "display_data"
    },
    {
     "name": "stdout",
     "output_type": "stream",
     "text": [
      "167    italian\n",
      "168    italian\n",
      "169    italian\n",
      "170    italian\n",
      "171    italian\n",
      "172    italian\n",
      "173    italian\n",
      "174    italian\n",
      "175    italian\n",
      "176    italian\n",
      "177    italian\n",
      "178    italian\n",
      "179    italian\n",
      "Name: originalLanguage, dtype: object\n"
     ]
    },
    {
     "data": {
      "image/png": "[encoded data removed]",
      "text/plain": [
       "<Figure size 432x288 with 1 Axes>"
      ]
     },
     "metadata": {
      "needs_background": "light"
     },
     "output_type": "display_data"
    },
    {
     "name": "stdout",
     "output_type": "stream",
     "text": [
      "91     japanese\n",
      "92     japanese\n",
      "93     japanese\n",
      "94     japanese\n",
      "95     japanese\n",
      "96     japanese\n",
      "97     japanese\n",
      "98     japanese\n",
      "99     japanese\n",
      "100    japanese\n",
      "101    japanese\n",
      "102    japanese\n",
      "103    japanese\n",
      "104    japanese\n",
      "105    japanese\n",
      "106    japanese\n",
      "107    japanese\n",
      "108    japanese\n",
      "109    japanese\n",
      "110    japanese\n",
      "111    japanese\n",
      "112    japanese\n",
      "113    japanese\n",
      "114    japanese\n",
      "115    japanese\n",
      "116    japanese\n",
      "117    japanese\n",
      "118    japanese\n",
      "119    japanese\n",
      "Name: originalLanguage, dtype: object\n"
     ]
    },
    {
     "data": {
      "image/png": "[encoded data removed]",
      "text/plain": [
       "<Figure size 432x288 with 1 Axes>"
      ]
     },
     "metadata": {
      "needs_background": "light"
     },
     "output_type": "display_data"
    },
    {
     "name": "stdout",
     "output_type": "stream",
     "text": [
      "181    korean\n",
      "182    korean\n",
      "183    korean\n",
      "184    korean\n",
      "185    korean\n",
      "186    korean\n",
      "187    korean\n",
      "188    korean\n",
      "189    korean\n",
      "190    korean\n",
      "191    korean\n",
      "192    korean\n",
      "193    korean\n",
      "194    korean\n",
      "195    korean\n",
      "197    korean\n",
      "Name: originalLanguage, dtype: object\n"
     ]
    },
    {
     "data": {
      "image/png": "[encoded data removed]",
      "text/plain": [
       "<Figure size 432x288 with 1 Axes>"
      ]
     },
     "metadata": {
      "needs_background": "light"
     },
     "output_type": "display_data"
    },
    {
     "name": "stdout",
     "output_type": "stream",
     "text": [
      "206    portuguese\n",
      "207    portuguese\n",
      "208    portuguese\n",
      "209    portuguese\n",
      "210    portuguese\n",
      "211    portuguese\n",
      "212    portuguese\n",
      "213    portuguese\n",
      "214    portuguese\n",
      "215    portuguese\n",
      "216    portuguese\n",
      "217    portuguese\n",
      "218    portuguese\n",
      "Name: originalLanguage, dtype: object\n"
     ]
    },
    {
     "data": {
      "image/png": "[encoded data removed]",
      "text/plain": [
       "<Figure size 432x288 with 1 Axes>"
      ]
     },
     "metadata": {
      "needs_background": "light"
     },
     "output_type": "display_data"
    },
    {
     "name": "stdout",
     "output_type": "stream",
     "text": [
      "198    russian\n",
      "199    russian\n",
      "200    russian\n",
      "201    russian\n",
      "202    russian\n",
      "203    russian\n",
      "204    russian\n",
      "205    russian\n",
      "Name: originalLanguage, dtype: object\n"
     ]
    },
    {
     "data": {
      "image/png": "[encoded data removed]",
      "text/plain": [
       "<Figure size 432x288 with 1 Axes>"
      ]
     },
     "metadata": {
      "needs_background": "light"
     },
     "output_type": "display_data"
    },
    {
     "name": "stdout",
     "output_type": "stream",
     "text": [
      "121    spanish\n",
      "122    spanish\n",
      "123    spanish\n",
      "124    spanish\n",
      "125    spanish\n",
      "126    spanish\n",
      "127    spanish\n",
      "128    spanish\n",
      "129    spanish\n",
      "130    spanish\n",
      "131    spanish\n",
      "132    spanish\n",
      "133    spanish\n",
      "134    spanish\n",
      "135    spanish\n",
      "136    spanish\n",
      "137    spanish\n",
      "138    spanish\n",
      "139    spanish\n",
      "140    spanish\n",
      "141    spanish\n",
      "142    spanish\n",
      "143    spanish\n",
      "144    spanish\n",
      "145    spanish\n",
      "146    spanish\n",
      "147    spanish\n",
      "148    spanish\n",
      "149    spanish\n",
      "150    spanish\n",
      "151    spanish\n",
      "152    spanish\n",
      "153    spanish\n",
      "154    spanish\n",
      "155    spanish\n",
      "156    spanish\n",
      "157    spanish\n",
      "158    spanish\n",
      "159    spanish\n",
      "160    spanish\n",
      "161    spanish\n",
      "162    spanish\n",
      "163    spanish\n",
      "164    spanish\n",
      "165    spanish\n",
      "Name: originalLanguage, dtype: object\n"
     ]
    },
    {
     "data": {
      "image/png": "[encoded data removed]",
      "text/plain": [
       "<Figure size 432x288 with 1 Axes>"
      ]
     },
     "metadata": {
      "needs_background": "light"
     },
     "output_type": "display_data"
    },
    {
     "name": "stdout",
     "output_type": "stream",
     "text": [
      "86    thai\n",
      "87    thai\n",
      "88    thai\n",
      "89    thai\n",
      "Name: originalLanguage, dtype: object\n"
     ]
    },
    {
     "data": {
      "image/png": "[encoded data removed]",
      "text/plain": [
       "<Figure size 432x288 with 1 Axes>"
      ]
     },
     "metadata": {
      "needs_background": "light"
     },
     "output_type": "display_data"
    },
    {
     "data": {
      "text/html": [
       "<div>\n",
       "<style scoped>\n",
       "    .dataframe tbody tr th:only-of-type {\n",
       "        vertical-align: middle;\n",
       "    }\n",
       "\n",
       "    .dataframe tbody tr th {\n",
       "        vertical-align: top;\n",
       "    }\n",
       "\n",
       "    .dataframe thead th {\n",
       "        text-align: right;\n",
       "    }\n",
       "</style>\n",
       "<table border=\"1\" class=\"dataframe\">\n",
       "  <thead>\n",
       "    <tr style=\"text-align: right;\">\n",
       "      <th></th>\n",
       "    </tr>\n",
       "  </thead>\n",
       "  <tbody>\n",
       "  </tbody>\n",
       "</table>\n",
       "</div>"
      ],
      "text/plain": [
       "Empty DataFrame\n",
       "Columns: []\n",
       "Index: []"
      ]
     },
     "execution_count": 80,
     "metadata": {},
     "output_type": "execute_result"
    }
   ],
   "source": [
    "df.groupby('originalLanguage').apply(ratingVsEntropy)"
   ]
  },
  {
   "cell_type": "code",
   "execution_count": null,
   "metadata": {},
   "outputs": [],
   "source": []
  }
 ],
 "metadata": {
  "kernelspec": {
   "display_name": "Python 3",
   "language": "python",
   "name": "python3"
  },
  "language_info": {
   "codemirror_mode": {
    "name": "ipython",
    "version": 3
   },
   "file_extension": ".py",
   "mimetype": "text/x-python",
   "name": "python",
   "nbconvert_exporter": "python",
   "pygments_lexer": "ipython3",
   "version": "3.7.1"
  }
 },
 "nbformat": 4,
 "nbformat_minor": 2
}
