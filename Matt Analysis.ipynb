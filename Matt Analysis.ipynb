{
 "cells": [
  {
   "cell_type": "code",
   "execution_count": 187,
   "metadata": {},
   "outputs": [],
   "source": [
    "import pandas as pd\n",
    "import numpy as np\n",
    "from scipy.stats import entropy\n",
    "import math\n",
    "from collections import Counter\n",
    "import matplotlib.pyplot as plt\n",
    "import statistics"
   ]
  },
  {
   "cell_type": "markdown",
   "metadata": {},
   "source": [
    "# Read and Combine Data"
   ]
  },
  {
   "cell_type": "code",
   "execution_count": 4,
   "metadata": {},
   "outputs": [],
   "source": [
    "languages = ['chinese', 'german', 'french', 'thai', 'japanese', 'spanish', 'italian', 'korean', 'russian', 'portuguese']\n",
    "languageColumns = ['Author', 'Date', 'Rating', 'AuthorKarma']"
   ]
  },
  {
   "cell_type": "code",
   "execution_count": 5,
   "metadata": {},
   "outputs": [],
   "source": [
    "dfs = []\n",
    "for language in languages:\n",
    "    d = pd.read_csv('data/' + language + '.csv')\n",
    "    d['originalLanguage'] = language\n",
    "    \n",
    "    for column in languageColumns:\n",
    "        d['original' + column] = d[language + column]\n",
    "        d = d.drop([language + column], axis=1)\n",
    "    \n",
    "    dfs.append(d)\n",
    "\n",
    "data = pd.concat(dfs, axis=0, ignore_index=True)\n",
    "    "
   ]
  },
  {
   "cell_type": "code",
   "execution_count": 87,
   "metadata": {},
   "outputs": [
    {
     "data": {
      "text/plain": [
       "219"
      ]
     },
     "execution_count": 87,
     "metadata": {},
     "output_type": "execute_result"
    }
   ],
   "source": [
    "len(data)"
   ]
  },
  {
   "cell_type": "code",
   "execution_count": 111,
   "metadata": {},
   "outputs": [],
   "source": [
    "# add the texts\n",
    "data['originalText'] = data.apply(lambda x: open('data/' + x['originalLanguage'] + \"Originals/\" + x['scpId'] + '.txt').read(), axis=1)\n",
    "data['englishText'] = data.apply(lambda x: open('data/englishFrom' + x['originalLanguage'].capitalize() + \"/\" + x['scpId'] + '.txt').read(), axis=1)"
   ]
  },
  {
   "cell_type": "code",
   "execution_count": 112,
   "metadata": {},
   "outputs": [
    {
     "data": {
      "text/html": [
       "<div>\n",
       "<style scoped>\n",
       "    .dataframe tbody tr th:only-of-type {\n",
       "        vertical-align: middle;\n",
       "    }\n",
       "\n",
       "    .dataframe tbody tr th {\n",
       "        vertical-align: top;\n",
       "    }\n",
       "\n",
       "    .dataframe thead th {\n",
       "        text-align: right;\n",
       "    }\n",
       "</style>\n",
       "<table border=\"1\" class=\"dataframe\">\n",
       "  <thead>\n",
       "    <tr style=\"text-align: right;\">\n",
       "      <th></th>\n",
       "      <th>scpId</th>\n",
       "      <th>href</th>\n",
       "      <th>name</th>\n",
       "      <th>englishRating</th>\n",
       "      <th>englishDate</th>\n",
       "      <th>englishAuthor</th>\n",
       "      <th>englishAuthorKarma</th>\n",
       "      <th>originalLanguage</th>\n",
       "      <th>originalAuthor</th>\n",
       "      <th>originalDate</th>\n",
       "      <th>originalRating</th>\n",
       "      <th>originalAuthorKarma</th>\n",
       "      <th>originalText</th>\n",
       "      <th>englishText</th>\n",
       "    </tr>\n",
       "  </thead>\n",
       "  <tbody>\n",
       "    <tr>\n",
       "      <th>0</th>\n",
       "      <td>SCP-CN-1000</td>\n",
       "      <td>/scp-cn-1000</td>\n",
       "      <td>2300</td>\n",
       "      <td>+12,+12,+12,+12</td>\n",
       "      <td>29 Mar 2019 00:01</td>\n",
       "      <td>Cynthia7979</td>\n",
       "      <td>very high</td>\n",
       "      <td>chinese</td>\n",
       "      <td>Infas12</td>\n",
       "      <td>30 Oct 2018 15:25</td>\n",
       "      <td>+574,+574,+574,+574</td>\n",
       "      <td>very high</td>\n",
       "      <td>\\n                        \\n\\n\\n\\n\\n\\n\\n评分: +5...</td>\n",
       "      <td>\\n                        \\n\\n\\n\\n\\n\\n\\nrating...</td>\n",
       "    </tr>\n",
       "    <tr>\n",
       "      <th>1</th>\n",
       "      <td>SCP-CN-994</td>\n",
       "      <td>/scp-cn-994</td>\n",
       "      <td>I See You</td>\n",
       "      <td>+26</td>\n",
       "      <td>18 Mar 2018 07:50</td>\n",
       "      <td>W Asriel</td>\n",
       "      <td>guru</td>\n",
       "      <td>chinese</td>\n",
       "      <td>AndyBlocker</td>\n",
       "      <td>11 Mar 2018 01:28</td>\n",
       "      <td>+858</td>\n",
       "      <td>high</td>\n",
       "      <td>\\n                        \\n\\n评分: +858+–x\\n\\n\\...</td>\n",
       "      <td>\\n                        \\n\\nrating: +26+–x\\n...</td>\n",
       "    </tr>\n",
       "    <tr>\n",
       "      <th>2</th>\n",
       "      <td>SCP-CN-918</td>\n",
       "      <td>/scp-cn-918</td>\n",
       "      <td>NaN</td>\n",
       "      <td>+4</td>\n",
       "      <td>04 May 2018 14:48</td>\n",
       "      <td>Idokoe</td>\n",
       "      <td>high</td>\n",
       "      <td>chinese</td>\n",
       "      <td>qjfoidnh</td>\n",
       "      <td>29 Apr 2018 15:46</td>\n",
       "      <td>+49</td>\n",
       "      <td>very high</td>\n",
       "      <td>\\n                        \\n\\n评分: +49+–x\\n\\n\\n...</td>\n",
       "      <td>\\n                        \\n\\nrating: +4+–x\\n\\...</td>\n",
       "    </tr>\n",
       "    <tr>\n",
       "      <th>3</th>\n",
       "      <td>SCP-CN-844</td>\n",
       "      <td>/scp-cn-844</td>\n",
       "      <td>The Seed of Lovesickness</td>\n",
       "      <td>0</td>\n",
       "      <td>20 Jul 2018 07:09</td>\n",
       "      <td>Cynthia7979</td>\n",
       "      <td>very high</td>\n",
       "      <td>chinese</td>\n",
       "      <td>Cynthia7979</td>\n",
       "      <td>02 Jun 2018 14:48</td>\n",
       "      <td>+19</td>\n",
       "      <td>very high</td>\n",
       "      <td>\\n                        \\n\\n评分: +19+–x\\n项目编号...</td>\n",
       "      <td>\\n                        \\n\\nrating: 0+–x\\nIt...</td>\n",
       "    </tr>\n",
       "    <tr>\n",
       "      <th>4</th>\n",
       "      <td>SCP-CN-767</td>\n",
       "      <td>/scp-cn-767</td>\n",
       "      <td>Chart Syndrome</td>\n",
       "      <td>+11</td>\n",
       "      <td>10 Aug 2018 14:28</td>\n",
       "      <td>KirkeStein</td>\n",
       "      <td>high</td>\n",
       "      <td>chinese</td>\n",
       "      <td>breaddddd</td>\n",
       "      <td>15 Feb 2018 09:08</td>\n",
       "      <td>+118</td>\n",
       "      <td>very high</td>\n",
       "      <td>\\n                        \\n\\n评分: +118+–x\\n\\n\\...</td>\n",
       "      <td>\\n                        \\n\\nrating: +11+–x\\n...</td>\n",
       "    </tr>\n",
       "  </tbody>\n",
       "</table>\n",
       "</div>"
      ],
      "text/plain": [
       "         scpId          href                      name    englishRating  \\\n",
       "0  SCP-CN-1000  /scp-cn-1000                      2300  +12,+12,+12,+12   \n",
       "1   SCP-CN-994   /scp-cn-994                 I See You              +26   \n",
       "2   SCP-CN-918   /scp-cn-918                       NaN               +4   \n",
       "3   SCP-CN-844   /scp-cn-844  The Seed of Lovesickness                0   \n",
       "4   SCP-CN-767   /scp-cn-767            Chart Syndrome              +11   \n",
       "\n",
       "         englishDate englishAuthor englishAuthorKarma originalLanguage  \\\n",
       "0  29 Mar 2019 00:01   Cynthia7979          very high          chinese   \n",
       "1  18 Mar 2018 07:50      W Asriel               guru          chinese   \n",
       "2  04 May 2018 14:48        Idokoe               high          chinese   \n",
       "3  20 Jul 2018 07:09   Cynthia7979          very high          chinese   \n",
       "4  10 Aug 2018 14:28    KirkeStein               high          chinese   \n",
       "\n",
       "  originalAuthor       originalDate       originalRating originalAuthorKarma  \\\n",
       "0        Infas12  30 Oct 2018 15:25  +574,+574,+574,+574           very high   \n",
       "1    AndyBlocker  11 Mar 2018 01:28                 +858                high   \n",
       "2       qjfoidnh  29 Apr 2018 15:46                  +49           very high   \n",
       "3    Cynthia7979  02 Jun 2018 14:48                  +19           very high   \n",
       "4      breaddddd  15 Feb 2018 09:08                 +118           very high   \n",
       "\n",
       "                                        originalText  \\\n",
       "0  \\n                        \\n\\n\\n\\n\\n\\n\\n评分: +5...   \n",
       "1  \\n                        \\n\\n评分: +858+–x\\n\\n\\...   \n",
       "2  \\n                        \\n\\n评分: +49+–x\\n\\n\\n...   \n",
       "3  \\n                        \\n\\n评分: +19+–x\\n项目编号...   \n",
       "4  \\n                        \\n\\n评分: +118+–x\\n\\n\\...   \n",
       "\n",
       "                                         englishText  \n",
       "0  \\n                        \\n\\n\\n\\n\\n\\n\\nrating...  \n",
       "1  \\n                        \\n\\nrating: +26+–x\\n...  \n",
       "2  \\n                        \\n\\nrating: +4+–x\\n\\...  \n",
       "3  \\n                        \\n\\nrating: 0+–x\\nIt...  \n",
       "4  \\n                        \\n\\nrating: +11+–x\\n...  "
      ]
     },
     "execution_count": 112,
     "metadata": {},
     "output_type": "execute_result"
    }
   ],
   "source": [
    "data.head()"
   ]
  },
  {
   "cell_type": "markdown",
   "metadata": {},
   "source": [
    "# Clean the Data"
   ]
  },
  {
   "cell_type": "code",
   "execution_count": 218,
   "metadata": {},
   "outputs": [],
   "source": [
    "cleaned = data.drop(['name', 'href'], axis=1)"
   ]
  },
  {
   "cell_type": "code",
   "execution_count": 219,
   "metadata": {},
   "outputs": [],
   "source": [
    "# fix up ratings\n",
    "ratingColumns = ['originalRating', 'englishRating']\n",
    "for column in ratingColumns:\n",
    "    cleaned[column] = cleaned[column].map(lambda x: float(str(x).split(',')[0]))\n",
    "    mask = cleaned[column].apply(lambda x: not math.isnan(x))\n",
    "    cleaned = cleaned[mask]"
   ]
  },
  {
   "cell_type": "code",
   "execution_count": 220,
   "metadata": {},
   "outputs": [],
   "source": [
    "# tokenize the text\n",
    "#charLanguages = ['chinese', 'japanese', 'korean', 'thai']\n",
    "#charLanguages = []\n",
    "charLanguages = ['chinese', 'japanese', 'thai']\n",
    "cleaned['englishText'] = cleaned['englishText'].apply(lambda x: x.split())\n",
    "cleaned['originalText'] = cleaned.apply(lambda x: list(x['originalText']) if x['originalLanguage'] in charLanguages else x['originalText'].split(), axis=1)"
   ]
  },
  {
   "cell_type": "code",
   "execution_count": 221,
   "metadata": {},
   "outputs": [
    {
     "data": {
      "text/html": [
       "<div>\n",
       "<style scoped>\n",
       "    .dataframe tbody tr th:only-of-type {\n",
       "        vertical-align: middle;\n",
       "    }\n",
       "\n",
       "    .dataframe tbody tr th {\n",
       "        vertical-align: top;\n",
       "    }\n",
       "\n",
       "    .dataframe thead th {\n",
       "        text-align: right;\n",
       "    }\n",
       "</style>\n",
       "<table border=\"1\" class=\"dataframe\">\n",
       "  <thead>\n",
       "    <tr style=\"text-align: right;\">\n",
       "      <th></th>\n",
       "      <th>scpId</th>\n",
       "      <th>englishRating</th>\n",
       "      <th>englishDate</th>\n",
       "      <th>englishAuthor</th>\n",
       "      <th>englishAuthorKarma</th>\n",
       "      <th>originalLanguage</th>\n",
       "      <th>originalAuthor</th>\n",
       "      <th>originalDate</th>\n",
       "      <th>originalRating</th>\n",
       "      <th>originalAuthorKarma</th>\n",
       "      <th>originalText</th>\n",
       "      <th>englishText</th>\n",
       "    </tr>\n",
       "  </thead>\n",
       "  <tbody>\n",
       "    <tr>\n",
       "      <th>0</th>\n",
       "      <td>SCP-CN-1000</td>\n",
       "      <td>12.0</td>\n",
       "      <td>29 Mar 2019 00:01</td>\n",
       "      <td>Cynthia7979</td>\n",
       "      <td>very high</td>\n",
       "      <td>chinese</td>\n",
       "      <td>Infas12</td>\n",
       "      <td>30 Oct 2018 15:25</td>\n",
       "      <td>574.0</td>\n",
       "      <td>very high</td>\n",
       "      <td>[\\n,  ,  ,  ,  ,  ,  ,  ,  ,  ,  ,  ,  ,  ,  ,...</td>\n",
       "      <td>[rating:, +12+–x, rating:, +12+–x, Credits, Or...</td>\n",
       "    </tr>\n",
       "    <tr>\n",
       "      <th>1</th>\n",
       "      <td>SCP-CN-994</td>\n",
       "      <td>26.0</td>\n",
       "      <td>18 Mar 2018 07:50</td>\n",
       "      <td>W Asriel</td>\n",
       "      <td>guru</td>\n",
       "      <td>chinese</td>\n",
       "      <td>AndyBlocker</td>\n",
       "      <td>11 Mar 2018 01:28</td>\n",
       "      <td>858.0</td>\n",
       "      <td>high</td>\n",
       "      <td>[\\n,  ,  ,  ,  ,  ,  ,  ,  ,  ,  ,  ,  ,  ,  ,...</td>\n",
       "      <td>[rating:, +26+–x]</td>\n",
       "    </tr>\n",
       "    <tr>\n",
       "      <th>2</th>\n",
       "      <td>SCP-CN-918</td>\n",
       "      <td>4.0</td>\n",
       "      <td>04 May 2018 14:48</td>\n",
       "      <td>Idokoe</td>\n",
       "      <td>high</td>\n",
       "      <td>chinese</td>\n",
       "      <td>qjfoidnh</td>\n",
       "      <td>29 Apr 2018 15:46</td>\n",
       "      <td>49.0</td>\n",
       "      <td>very high</td>\n",
       "      <td>[\\n,  ,  ,  ,  ,  ,  ,  ,  ,  ,  ,  ,  ,  ,  ,...</td>\n",
       "      <td>[rating:, +4+–x, SCP-CN-918, in, motionless, s...</td>\n",
       "    </tr>\n",
       "    <tr>\n",
       "      <th>3</th>\n",
       "      <td>SCP-CN-844</td>\n",
       "      <td>0.0</td>\n",
       "      <td>20 Jul 2018 07:09</td>\n",
       "      <td>Cynthia7979</td>\n",
       "      <td>very high</td>\n",
       "      <td>chinese</td>\n",
       "      <td>Cynthia7979</td>\n",
       "      <td>02 Jun 2018 14:48</td>\n",
       "      <td>19.0</td>\n",
       "      <td>very high</td>\n",
       "      <td>[\\n,  ,  ,  ,  ,  ,  ,  ,  ,  ,  ,  ,  ,  ,  ,...</td>\n",
       "      <td>[rating:, 0+–x, Item, #:, SCP-CN-844, Object, ...</td>\n",
       "    </tr>\n",
       "    <tr>\n",
       "      <th>4</th>\n",
       "      <td>SCP-CN-767</td>\n",
       "      <td>11.0</td>\n",
       "      <td>10 Aug 2018 14:28</td>\n",
       "      <td>KirkeStein</td>\n",
       "      <td>high</td>\n",
       "      <td>chinese</td>\n",
       "      <td>breaddddd</td>\n",
       "      <td>15 Feb 2018 09:08</td>\n",
       "      <td>118.0</td>\n",
       "      <td>very high</td>\n",
       "      <td>[\\n,  ,  ,  ,  ,  ,  ,  ,  ,  ,  ,  ,  ,  ,  ,...</td>\n",
       "      <td>[rating:, +11+–x, +, Containment, Record, -, C...</td>\n",
       "    </tr>\n",
       "  </tbody>\n",
       "</table>\n",
       "</div>"
      ],
      "text/plain": [
       "         scpId  englishRating        englishDate englishAuthor  \\\n",
       "0  SCP-CN-1000           12.0  29 Mar 2019 00:01   Cynthia7979   \n",
       "1   SCP-CN-994           26.0  18 Mar 2018 07:50      W Asriel   \n",
       "2   SCP-CN-918            4.0  04 May 2018 14:48        Idokoe   \n",
       "3   SCP-CN-844            0.0  20 Jul 2018 07:09   Cynthia7979   \n",
       "4   SCP-CN-767           11.0  10 Aug 2018 14:28    KirkeStein   \n",
       "\n",
       "  englishAuthorKarma originalLanguage originalAuthor       originalDate  \\\n",
       "0          very high          chinese        Infas12  30 Oct 2018 15:25   \n",
       "1               guru          chinese    AndyBlocker  11 Mar 2018 01:28   \n",
       "2               high          chinese       qjfoidnh  29 Apr 2018 15:46   \n",
       "3          very high          chinese    Cynthia7979  02 Jun 2018 14:48   \n",
       "4               high          chinese      breaddddd  15 Feb 2018 09:08   \n",
       "\n",
       "   originalRating originalAuthorKarma  \\\n",
       "0           574.0           very high   \n",
       "1           858.0                high   \n",
       "2            49.0           very high   \n",
       "3            19.0           very high   \n",
       "4           118.0           very high   \n",
       "\n",
       "                                        originalText  \\\n",
       "0  [\\n,  ,  ,  ,  ,  ,  ,  ,  ,  ,  ,  ,  ,  ,  ,...   \n",
       "1  [\\n,  ,  ,  ,  ,  ,  ,  ,  ,  ,  ,  ,  ,  ,  ,...   \n",
       "2  [\\n,  ,  ,  ,  ,  ,  ,  ,  ,  ,  ,  ,  ,  ,  ,...   \n",
       "3  [\\n,  ,  ,  ,  ,  ,  ,  ,  ,  ,  ,  ,  ,  ,  ,...   \n",
       "4  [\\n,  ,  ,  ,  ,  ,  ,  ,  ,  ,  ,  ,  ,  ,  ,...   \n",
       "\n",
       "                                         englishText  \n",
       "0  [rating:, +12+–x, rating:, +12+–x, Credits, Or...  \n",
       "1                                  [rating:, +26+–x]  \n",
       "2  [rating:, +4+–x, SCP-CN-918, in, motionless, s...  \n",
       "3  [rating:, 0+–x, Item, #:, SCP-CN-844, Object, ...  \n",
       "4  [rating:, +11+–x, +, Containment, Record, -, C...  "
      ]
     },
     "execution_count": 221,
     "metadata": {},
     "output_type": "execute_result"
    }
   ],
   "source": [
    "cleaned.head()"
   ]
  },
  {
   "cell_type": "markdown",
   "metadata": {},
   "source": [
    "# Math and Stuff"
   ]
  },
  {
   "cell_type": "code",
   "execution_count": 222,
   "metadata": {},
   "outputs": [],
   "source": [
    "df = cleaned"
   ]
  },
  {
   "cell_type": "code",
   "execution_count": 223,
   "metadata": {},
   "outputs": [],
   "source": [
    "df['originalEntropy'] = df.apply(lambda x: entropy(list(map(lambda y: y / len(x['originalText']), Counter(x['originalText']).values()))), axis=1)"
   ]
  },
  {
   "cell_type": "code",
   "execution_count": 224,
   "metadata": {},
   "outputs": [],
   "source": [
    "df['englishEntropy'] = df.apply(lambda x: entropy(list(map(lambda y: y / len(x['englishText']), Counter(x['englishText']).values()))), axis=1)"
   ]
  },
  {
   "cell_type": "code",
   "execution_count": 225,
   "metadata": {},
   "outputs": [
    {
     "data": {
      "image/png": "[encoded data removed]",
      "text/plain": [
       "<Figure size 1080x360 with 1 Axes>"
      ]
     },
     "metadata": {
      "needs_background": "light"
     },
     "output_type": "display_data"
    }
   ],
   "source": [
    "originalEntropy = df.groupby('originalLanguage').apply(lambda x: statistics.mean(x['originalEntropy']))\n",
    "englishEntropy = df.groupby('originalLanguage').apply(lambda x: statistics.mean(x['englishEntropy']))\n",
    "\n",
    "y_pos = np.arange(len(languages))\n",
    "plt.figure(figsize=(15,5))\n",
    "plt.bar(y_pos, originalEntropy.values  - englishEntropy.values)\n",
    "plt.xticks(y_pos, originalEntropy.index)\n",
    "plt.show()"
   ]
  },
  {
   "cell_type": "code",
   "execution_count": null,
   "metadata": {},
   "outputs": [],
   "source": []
  }
 ],
 "metadata": {
  "kernelspec": {
   "display_name": "Python 3",
   "language": "python",
   "name": "python3"
  },
  "language_info": {
   "codemirror_mode": {
    "name": "ipython",
    "version": 3
   },
   "file_extension": ".py",
   "mimetype": "text/x-python",
   "name": "python",
   "nbconvert_exporter": "python",
   "pygments_lexer": "ipython3",
   "version": "3.7.1"
  }
 },
 "nbformat": 4,
 "nbformat_minor": 2
}
