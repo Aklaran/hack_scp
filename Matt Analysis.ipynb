{
 "cells": [
  {
   "cell_type": "code",
   "execution_count": 178,
   "metadata": {},
   "outputs": [],
   "source": [
    "import pandas as pd\n",
    "import numpy as np\n",
    "from scipy.stats import entropy\n",
    "import math\n",
    "from collections import Counter\n",
    "import matplotlib.pyplot as plt\n",
    "import statistics"
   ]
  },
  {
   "cell_type": "markdown",
   "metadata": {},
   "source": [
    "# Read and Combine Data"
   ]
  },
  {
   "cell_type": "code",
   "execution_count": 179,
   "metadata": {},
   "outputs": [],
   "source": [
    "languages = ['chinese', 'german', 'french', 'thai', 'japanese', 'spanish', 'italian', 'korean', 'russian', 'portuguese']\n",
    "languageColumns = ['Author', 'Date', 'Rating', 'AuthorKarma']"
   ]
  },
  {
   "cell_type": "code",
   "execution_count": 180,
   "metadata": {},
   "outputs": [],
   "source": [
    "dfs = []\n",
    "for language in languages:\n",
    "    d = pd.read_csv('data/' + language + '.csv')\n",
    "    d['originalLanguage'] = language\n",
    "    \n",
    "    for column in languageColumns:\n",
    "        d['original' + column] = d[language + column]\n",
    "        d = d.drop([language + column], axis=1)\n",
    "    \n",
    "    dfs.append(d)\n",
    "\n",
    "data = pd.concat(dfs, axis=0, ignore_index=True)\n",
    "    "
   ]
  },
  {
   "cell_type": "code",
   "execution_count": 181,
   "metadata": {},
   "outputs": [
    {
     "data": {
      "text/plain": [
       "219"
      ]
     },
     "execution_count": 181,
     "metadata": {},
     "output_type": "execute_result"
    }
   ],
   "source": [
    "len(data)"
   ]
  },
  {
   "cell_type": "code",
   "execution_count": 182,
   "metadata": {},
   "outputs": [],
   "source": [
    "# add the texts\n",
    "data['originalText'] = data.apply(lambda x: open('data/' + x['originalLanguage'] + \"Originals/\" + x['scpId'] + '.txt').read(), axis=1)\n",
    "data['englishText'] = data.apply(lambda x: open('data/englishFrom' + x['originalLanguage'].capitalize() + \"/\" + x['scpId'] + '.txt').read(), axis=1)"
   ]
  },
  {
   "cell_type": "code",
   "execution_count": 183,
   "metadata": {},
   "outputs": [
    {
     "data": {
      "text/html": [
       "<div>\n",
       "<style scoped>\n",
       "    .dataframe tbody tr th:only-of-type {\n",
       "        vertical-align: middle;\n",
       "    }\n",
       "\n",
       "    .dataframe tbody tr th {\n",
       "        vertical-align: top;\n",
       "    }\n",
       "\n",
       "    .dataframe thead th {\n",
       "        text-align: right;\n",
       "    }\n",
       "</style>\n",
       "<table border=\"1\" class=\"dataframe\">\n",
       "  <thead>\n",
       "    <tr style=\"text-align: right;\">\n",
       "      <th></th>\n",
       "      <th>scpId</th>\n",
       "      <th>href</th>\n",
       "      <th>name</th>\n",
       "      <th>englishRating</th>\n",
       "      <th>englishDate</th>\n",
       "      <th>englishAuthor</th>\n",
       "      <th>englishAuthorKarma</th>\n",
       "      <th>originalLanguage</th>\n",
       "      <th>originalAuthor</th>\n",
       "      <th>originalDate</th>\n",
       "      <th>originalRating</th>\n",
       "      <th>originalAuthorKarma</th>\n",
       "      <th>originalText</th>\n",
       "      <th>englishText</th>\n",
       "    </tr>\n",
       "  </thead>\n",
       "  <tbody>\n",
       "    <tr>\n",
       "      <th>0</th>\n",
       "      <td>SCP-CN-1000</td>\n",
       "      <td>/scp-cn-1000</td>\n",
       "      <td>2300</td>\n",
       "      <td>+12,+12,+12,+12</td>\n",
       "      <td>29 Mar 2019 00:01</td>\n",
       "      <td>Cynthia7979</td>\n",
       "      <td>very high</td>\n",
       "      <td>chinese</td>\n",
       "      <td>Infas12</td>\n",
       "      <td>30 Oct 2018 15:25</td>\n",
       "      <td>+574,+574,+574,+574</td>\n",
       "      <td>very high</td>\n",
       "      <td>\\n                        \\n\\n\\n\\n\\n\\n\\n评分: +5...</td>\n",
       "      <td>\\n                        \\n\\n\\n\\n\\n\\n\\nrating...</td>\n",
       "    </tr>\n",
       "    <tr>\n",
       "      <th>1</th>\n",
       "      <td>SCP-CN-994</td>\n",
       "      <td>/scp-cn-994</td>\n",
       "      <td>I See You</td>\n",
       "      <td>+26</td>\n",
       "      <td>18 Mar 2018 07:50</td>\n",
       "      <td>W Asriel</td>\n",
       "      <td>guru</td>\n",
       "      <td>chinese</td>\n",
       "      <td>AndyBlocker</td>\n",
       "      <td>11 Mar 2018 01:28</td>\n",
       "      <td>+858</td>\n",
       "      <td>high</td>\n",
       "      <td>\\n                        \\n\\n评分: +858+–x\\n\\n\\...</td>\n",
       "      <td>\\n                        \\n\\nrating: +26+–x\\n...</td>\n",
       "    </tr>\n",
       "    <tr>\n",
       "      <th>2</th>\n",
       "      <td>SCP-CN-918</td>\n",
       "      <td>/scp-cn-918</td>\n",
       "      <td>NaN</td>\n",
       "      <td>+4</td>\n",
       "      <td>04 May 2018 14:48</td>\n",
       "      <td>Idokoe</td>\n",
       "      <td>high</td>\n",
       "      <td>chinese</td>\n",
       "      <td>qjfoidnh</td>\n",
       "      <td>29 Apr 2018 15:46</td>\n",
       "      <td>+49</td>\n",
       "      <td>very high</td>\n",
       "      <td>\\n                        \\n\\n评分: +49+–x\\n\\n\\n...</td>\n",
       "      <td>\\n                        \\n\\nrating: +4+–x\\n\\...</td>\n",
       "    </tr>\n",
       "    <tr>\n",
       "      <th>3</th>\n",
       "      <td>SCP-CN-844</td>\n",
       "      <td>/scp-cn-844</td>\n",
       "      <td>The Seed of Lovesickness</td>\n",
       "      <td>0</td>\n",
       "      <td>20 Jul 2018 07:09</td>\n",
       "      <td>Cynthia7979</td>\n",
       "      <td>very high</td>\n",
       "      <td>chinese</td>\n",
       "      <td>Cynthia7979</td>\n",
       "      <td>02 Jun 2018 14:48</td>\n",
       "      <td>+19</td>\n",
       "      <td>very high</td>\n",
       "      <td>\\n                        \\n\\n评分: +19+–x\\n项目编号...</td>\n",
       "      <td>\\n                        \\n\\nrating: 0+–x\\nIt...</td>\n",
       "    </tr>\n",
       "    <tr>\n",
       "      <th>4</th>\n",
       "      <td>SCP-CN-767</td>\n",
       "      <td>/scp-cn-767</td>\n",
       "      <td>Chart Syndrome</td>\n",
       "      <td>+11</td>\n",
       "      <td>10 Aug 2018 14:28</td>\n",
       "      <td>KirkeStein</td>\n",
       "      <td>high</td>\n",
       "      <td>chinese</td>\n",
       "      <td>breaddddd</td>\n",
       "      <td>15 Feb 2018 09:08</td>\n",
       "      <td>+118</td>\n",
       "      <td>very high</td>\n",
       "      <td>\\n                        \\n\\n评分: +118+–x\\n\\n\\...</td>\n",
       "      <td>\\n                        \\n\\nrating: +11+–x\\n...</td>\n",
       "    </tr>\n",
       "  </tbody>\n",
       "</table>\n",
       "</div>"
      ],
      "text/plain": [
       "         scpId          href                      name    englishRating  \\\n",
       "0  SCP-CN-1000  /scp-cn-1000                      2300  +12,+12,+12,+12   \n",
       "1   SCP-CN-994   /scp-cn-994                 I See You              +26   \n",
       "2   SCP-CN-918   /scp-cn-918                       NaN               +4   \n",
       "3   SCP-CN-844   /scp-cn-844  The Seed of Lovesickness                0   \n",
       "4   SCP-CN-767   /scp-cn-767            Chart Syndrome              +11   \n",
       "\n",
       "         englishDate englishAuthor englishAuthorKarma originalLanguage  \\\n",
       "0  29 Mar 2019 00:01   Cynthia7979          very high          chinese   \n",
       "1  18 Mar 2018 07:50      W Asriel               guru          chinese   \n",
       "2  04 May 2018 14:48        Idokoe               high          chinese   \n",
       "3  20 Jul 2018 07:09   Cynthia7979          very high          chinese   \n",
       "4  10 Aug 2018 14:28    KirkeStein               high          chinese   \n",
       "\n",
       "  originalAuthor       originalDate       originalRating originalAuthorKarma  \\\n",
       "0        Infas12  30 Oct 2018 15:25  +574,+574,+574,+574           very high   \n",
       "1    AndyBlocker  11 Mar 2018 01:28                 +858                high   \n",
       "2       qjfoidnh  29 Apr 2018 15:46                  +49           very high   \n",
       "3    Cynthia7979  02 Jun 2018 14:48                  +19           very high   \n",
       "4      breaddddd  15 Feb 2018 09:08                 +118           very high   \n",
       "\n",
       "                                        originalText  \\\n",
       "0  \\n                        \\n\\n\\n\\n\\n\\n\\n评分: +5...   \n",
       "1  \\n                        \\n\\n评分: +858+–x\\n\\n\\...   \n",
       "2  \\n                        \\n\\n评分: +49+–x\\n\\n\\n...   \n",
       "3  \\n                        \\n\\n评分: +19+–x\\n项目编号...   \n",
       "4  \\n                        \\n\\n评分: +118+–x\\n\\n\\...   \n",
       "\n",
       "                                         englishText  \n",
       "0  \\n                        \\n\\n\\n\\n\\n\\n\\nrating...  \n",
       "1  \\n                        \\n\\nrating: +26+–x\\n...  \n",
       "2  \\n                        \\n\\nrating: +4+–x\\n\\...  \n",
       "3  \\n                        \\n\\nrating: 0+–x\\nIt...  \n",
       "4  \\n                        \\n\\nrating: +11+–x\\n...  "
      ]
     },
     "execution_count": 183,
     "metadata": {},
     "output_type": "execute_result"
    }
   ],
   "source": [
    "data.head()"
   ]
  },
  {
   "cell_type": "markdown",
   "metadata": {},
   "source": [
    "# Clean the Data"
   ]
  },
  {
   "cell_type": "code",
   "execution_count": 184,
   "metadata": {},
   "outputs": [],
   "source": [
    "cleaned = data.drop(['name', 'href'], axis=1)"
   ]
  },
  {
   "cell_type": "code",
   "execution_count": 185,
   "metadata": {},
   "outputs": [],
   "source": [
    "# fix up ratings\n",
    "ratingColumns = ['originalRating', 'englishRating']\n",
    "for column in ratingColumns:\n",
    "    cleaned[column] = cleaned[column].map(lambda x: float(str(x).split(',')[0]))\n",
    "    mask = cleaned[column].apply(lambda x: not math.isnan(x))\n",
    "    cleaned = cleaned[mask]"
   ]
  },
  {
   "cell_type": "code",
   "execution_count": 186,
   "metadata": {},
   "outputs": [],
   "source": [
    "# tokenize the text\n",
    "#charLanguages = ['chinese', 'japanese', 'korean', 'thai']\n",
    "#charLanguages = []\n",
    "charLanguages = ['chinese', 'japanese', 'thai', 'korean']\n",
    "cleaned['englishText'] = cleaned['englishText'].apply(lambda x: x.split())\n",
    "cleaned['originalText'] = cleaned.apply(lambda x: list(x['originalText']) if x['originalLanguage'] in charLanguages else x['originalText'].split(), axis=1)"
   ]
  },
  {
   "cell_type": "code",
   "execution_count": 187,
   "metadata": {},
   "outputs": [],
   "source": [
    "# remove whitespace\n",
    "cleaned['originalText'] = cleaned['originalText'].apply(lambda y: list(filter(lambda x: not x.isspace(), y)))\n",
    "cleaned['englishText'] = cleaned['englishText'].apply(lambda y: list(filter(lambda x: not x.isspace(), y)))"
   ]
  },
  {
   "cell_type": "code",
   "execution_count": 188,
   "metadata": {},
   "outputs": [],
   "source": [
    "# karma to number\n",
    "karma = {'none': 0,\n",
    "         'low': 1,\n",
    "         'medium': 2,\n",
    "         'high': 3,\n",
    "         'very high': 4,\n",
    "         'guru': 5}\n",
    "cleaned['authorKarma'] = cleaned['originalAuthorKarma'].apply(lambda x: karma[x])\n",
    "cleaned['translatorKarma'] = cleaned['englishAuthorKarma'].apply(lambda x: karma[x])"
   ]
  },
  {
   "cell_type": "code",
   "execution_count": 189,
   "metadata": {},
   "outputs": [
    {
     "data": {
      "text/html": [
       "<div>\n",
       "<style scoped>\n",
       "    .dataframe tbody tr th:only-of-type {\n",
       "        vertical-align: middle;\n",
       "    }\n",
       "\n",
       "    .dataframe tbody tr th {\n",
       "        vertical-align: top;\n",
       "    }\n",
       "\n",
       "    .dataframe thead th {\n",
       "        text-align: right;\n",
       "    }\n",
       "</style>\n",
       "<table border=\"1\" class=\"dataframe\">\n",
       "  <thead>\n",
       "    <tr style=\"text-align: right;\">\n",
       "      <th></th>\n",
       "      <th>scpId</th>\n",
       "      <th>englishRating</th>\n",
       "      <th>englishDate</th>\n",
       "      <th>englishAuthor</th>\n",
       "      <th>englishAuthorKarma</th>\n",
       "      <th>originalLanguage</th>\n",
       "      <th>originalAuthor</th>\n",
       "      <th>originalDate</th>\n",
       "      <th>originalRating</th>\n",
       "      <th>originalAuthorKarma</th>\n",
       "      <th>originalText</th>\n",
       "      <th>englishText</th>\n",
       "      <th>authorKarma</th>\n",
       "      <th>translatorKarma</th>\n",
       "    </tr>\n",
       "  </thead>\n",
       "  <tbody>\n",
       "    <tr>\n",
       "      <th>0</th>\n",
       "      <td>SCP-CN-1000</td>\n",
       "      <td>12.0</td>\n",
       "      <td>29 Mar 2019 00:01</td>\n",
       "      <td>Cynthia7979</td>\n",
       "      <td>very high</td>\n",
       "      <td>chinese</td>\n",
       "      <td>Infas12</td>\n",
       "      <td>30 Oct 2018 15:25</td>\n",
       "      <td>574.0</td>\n",
       "      <td>very high</td>\n",
       "      <td>[评, 分, :, +, 5, 7, 4, +, –, x, 评, 分, :, +, 5, ...</td>\n",
       "      <td>[rating:, +12+–x, rating:, +12+–x, Credits, Or...</td>\n",
       "      <td>4</td>\n",
       "      <td>4</td>\n",
       "    </tr>\n",
       "    <tr>\n",
       "      <th>1</th>\n",
       "      <td>SCP-CN-994</td>\n",
       "      <td>26.0</td>\n",
       "      <td>18 Mar 2018 07:50</td>\n",
       "      <td>W Asriel</td>\n",
       "      <td>guru</td>\n",
       "      <td>chinese</td>\n",
       "      <td>AndyBlocker</td>\n",
       "      <td>11 Mar 2018 01:28</td>\n",
       "      <td>858.0</td>\n",
       "      <td>high</td>\n",
       "      <td>[评, 分, :, +, 8, 5, 8, +, –, x, «, S, C, P, -, ...</td>\n",
       "      <td>[rating:, +26+–x]</td>\n",
       "      <td>3</td>\n",
       "      <td>5</td>\n",
       "    </tr>\n",
       "    <tr>\n",
       "      <th>2</th>\n",
       "      <td>SCP-CN-918</td>\n",
       "      <td>4.0</td>\n",
       "      <td>04 May 2018 14:48</td>\n",
       "      <td>Idokoe</td>\n",
       "      <td>high</td>\n",
       "      <td>chinese</td>\n",
       "      <td>qjfoidnh</td>\n",
       "      <td>29 Apr 2018 15:46</td>\n",
       "      <td>49.0</td>\n",
       "      <td>very high</td>\n",
       "      <td>[评, 分, :, +, 4, 9, +, –, x, 静, 止, 状, 态, 的, S, ...</td>\n",
       "      <td>[rating:, +4+–x, SCP-CN-918, in, motionless, s...</td>\n",
       "      <td>4</td>\n",
       "      <td>3</td>\n",
       "    </tr>\n",
       "    <tr>\n",
       "      <th>3</th>\n",
       "      <td>SCP-CN-844</td>\n",
       "      <td>0.0</td>\n",
       "      <td>20 Jul 2018 07:09</td>\n",
       "      <td>Cynthia7979</td>\n",
       "      <td>very high</td>\n",
       "      <td>chinese</td>\n",
       "      <td>Cynthia7979</td>\n",
       "      <td>02 Jun 2018 14:48</td>\n",
       "      <td>19.0</td>\n",
       "      <td>very high</td>\n",
       "      <td>[评, 分, :, +, 1, 9, +, –, x, 项, 目, 编, 号, ：, S, ...</td>\n",
       "      <td>[rating:, 0+–x, Item, #:, SCP-CN-844, Object, ...</td>\n",
       "      <td>4</td>\n",
       "      <td>4</td>\n",
       "    </tr>\n",
       "    <tr>\n",
       "      <th>4</th>\n",
       "      <td>SCP-CN-767</td>\n",
       "      <td>11.0</td>\n",
       "      <td>10 Aug 2018 14:28</td>\n",
       "      <td>KirkeStein</td>\n",
       "      <td>high</td>\n",
       "      <td>chinese</td>\n",
       "      <td>breaddddd</td>\n",
       "      <td>15 Feb 2018 09:08</td>\n",
       "      <td>118.0</td>\n",
       "      <td>very high</td>\n",
       "      <td>[评, 分, :, +, 1, 1, 8, +, –, x, +, 回, 收, 记, 录, ...</td>\n",
       "      <td>[rating:, +11+–x, +, Containment, Record, -, C...</td>\n",
       "      <td>4</td>\n",
       "      <td>3</td>\n",
       "    </tr>\n",
       "  </tbody>\n",
       "</table>\n",
       "</div>"
      ],
      "text/plain": [
       "         scpId  englishRating        englishDate englishAuthor  \\\n",
       "0  SCP-CN-1000           12.0  29 Mar 2019 00:01   Cynthia7979   \n",
       "1   SCP-CN-994           26.0  18 Mar 2018 07:50      W Asriel   \n",
       "2   SCP-CN-918            4.0  04 May 2018 14:48        Idokoe   \n",
       "3   SCP-CN-844            0.0  20 Jul 2018 07:09   Cynthia7979   \n",
       "4   SCP-CN-767           11.0  10 Aug 2018 14:28    KirkeStein   \n",
       "\n",
       "  englishAuthorKarma originalLanguage originalAuthor       originalDate  \\\n",
       "0          very high          chinese        Infas12  30 Oct 2018 15:25   \n",
       "1               guru          chinese    AndyBlocker  11 Mar 2018 01:28   \n",
       "2               high          chinese       qjfoidnh  29 Apr 2018 15:46   \n",
       "3          very high          chinese    Cynthia7979  02 Jun 2018 14:48   \n",
       "4               high          chinese      breaddddd  15 Feb 2018 09:08   \n",
       "\n",
       "   originalRating originalAuthorKarma  \\\n",
       "0           574.0           very high   \n",
       "1           858.0                high   \n",
       "2            49.0           very high   \n",
       "3            19.0           very high   \n",
       "4           118.0           very high   \n",
       "\n",
       "                                        originalText  \\\n",
       "0  [评, 分, :, +, 5, 7, 4, +, –, x, 评, 分, :, +, 5, ...   \n",
       "1  [评, 分, :, +, 8, 5, 8, +, –, x, «, S, C, P, -, ...   \n",
       "2  [评, 分, :, +, 4, 9, +, –, x, 静, 止, 状, 态, 的, S, ...   \n",
       "3  [评, 分, :, +, 1, 9, +, –, x, 项, 目, 编, 号, ：, S, ...   \n",
       "4  [评, 分, :, +, 1, 1, 8, +, –, x, +, 回, 收, 记, 录, ...   \n",
       "\n",
       "                                         englishText  authorKarma  \\\n",
       "0  [rating:, +12+–x, rating:, +12+–x, Credits, Or...            4   \n",
       "1                                  [rating:, +26+–x]            3   \n",
       "2  [rating:, +4+–x, SCP-CN-918, in, motionless, s...            4   \n",
       "3  [rating:, 0+–x, Item, #:, SCP-CN-844, Object, ...            4   \n",
       "4  [rating:, +11+–x, +, Containment, Record, -, C...            4   \n",
       "\n",
       "   translatorKarma  \n",
       "0                4  \n",
       "1                5  \n",
       "2                3  \n",
       "3                4  \n",
       "4                3  "
      ]
     },
     "execution_count": 189,
     "metadata": {},
     "output_type": "execute_result"
    }
   ],
   "source": [
    "cleaned.head()"
   ]
  },
  {
   "cell_type": "markdown",
   "metadata": {},
   "source": [
    "# Math and Stuff"
   ]
  },
  {
   "cell_type": "code",
   "execution_count": 190,
   "metadata": {},
   "outputs": [],
   "source": [
    "df = cleaned"
   ]
  },
  {
   "cell_type": "code",
   "execution_count": 191,
   "metadata": {},
   "outputs": [],
   "source": [
    "df['originalEntropy'] = df.apply(lambda x: entropy(list(map(lambda y: y / len(x['originalText']), Counter(x['originalText']).values()))), axis=1)"
   ]
  },
  {
   "cell_type": "code",
   "execution_count": 192,
   "metadata": {},
   "outputs": [],
   "source": [
    "df['englishEntropy'] = df.apply(lambda x: entropy(list(map(lambda y: y / len(x['englishText']), Counter(x['englishText']).values()))), axis=1)"
   ]
  },
  {
   "cell_type": "code",
   "execution_count": 193,
   "metadata": {},
   "outputs": [
    {
     "data": {
      "image/png": "[encoded data removed]",
      "text/plain": [
       "<Figure size 1080x360 with 1 Axes>"
      ]
     },
     "metadata": {
      "needs_background": "light"
     },
     "output_type": "display_data"
    }
   ],
   "source": [
    "originalEntropy = df.groupby('originalLanguage').apply(lambda x: statistics.mean(x['originalEntropy']))\n",
    "englishEntropy = df.groupby('originalLanguage').apply(lambda x: statistics.mean(x['englishEntropy']))\n",
    "\n",
    "y_pos = np.arange(len(languages))\n",
    "plt.figure(figsize=(15,5))\n",
    "plt.bar(y_pos, englishEntropy.values - originalEntropy.values)\n",
    "plt.xticks(y_pos, originalEntropy.index)\n",
    "plt.show()"
   ]
  },
  {
   "cell_type": "code",
   "execution_count": 194,
   "metadata": {},
   "outputs": [],
   "source": [
    "# z score entropy\n",
    "averageEnglishEntropy = statistics.mean(df['englishEntropy'])\n",
    "averageOriginalEntropy = df.groupby('originalLanguage').apply(lambda x: statistics.mean(x['originalEntropy']))\n",
    "stdevEnglishEntropy = statistics.stdev(df['englishEntropy'])\n",
    "stdevOriginalEntropy = df.groupby('originalLanguage').apply(lambda x: statistics.stdev(x['originalEntropy']))\n",
    "df['normalizedEnglishEntropy'] = df['englishEntropy'].apply(lambda x: (x - averageEnglishEntropy) / stdevEnglishEntropy)\n",
    "df['normalizedOrginalEntropy'] = df.apply(lambda x: (x['originalEntropy'] - averageOriginalEntropy[x['originalLanguage']]) / stdevOriginalEntropy[x['originalLanguage']], axis=1)"
   ]
  },
  {
   "cell_type": "code",
   "execution_count": 195,
   "metadata": {},
   "outputs": [
    {
     "data": {
      "image/png": "[encoded data removed]",
      "text/plain": [
       "<Figure size 432x288 with 1 Axes>"
      ]
     },
     "metadata": {
      "needs_background": "light"
     },
     "output_type": "display_data"
    }
   ],
   "source": [
    "plt.scatter(df['normalizedOrginalEntropy'], df['normalizedEnglishEntropy'])\n",
    "plt.show()"
   ]
  },
  {
   "cell_type": "code",
   "execution_count": 196,
   "metadata": {},
   "outputs": [],
   "source": [
    "# z score upvotes\n",
    "averageEnglishRating = statistics.mean(df['englishRating'])\n",
    "averageOriginalRating = df.groupby('originalLanguage').apply(lambda x: statistics.mean(x['originalRating']))\n",
    "stdevEnglishRating = statistics.stdev(df['englishRating'])\n",
    "stdevOriginalRating = df.groupby('originalLanguage').apply(lambda x: statistics.stdev(x['originalRating']))\n",
    "df['normalizedEnglishRating'] = df['englishRating'].apply(lambda x: (x - averageEnglishRating) / stdevEnglishRating)\n",
    "df['normalizedOrginalRating'] = df.apply(lambda x: (x['originalRating'] - averageOriginalRating[x['originalLanguage']]) / stdevOriginalRating[x['originalLanguage']], axis=1)"
   ]
  },
  {
   "cell_type": "code",
   "execution_count": 197,
   "metadata": {},
   "outputs": [
    {
     "data": {
      "image/png": "[encoded data removed]",
      "text/plain": [
       "<Figure size 432x288 with 1 Axes>"
      ]
     },
     "metadata": {
      "needs_background": "light"
     },
     "output_type": "display_data"
    }
   ],
   "source": [
    "plt.scatter(df['normalizedOrginalRating'], df['normalizedEnglishRating'])\n",
    "plt.show()"
   ]
  },
  {
   "cell_type": "code",
   "execution_count": 198,
   "metadata": {},
   "outputs": [],
   "source": [
    "# log rating\n",
    "zero = 0.1\n",
    "df['logEnglishRating'] = df['englishRating'].apply(lambda x: np.log(x) if x != 0 else np.log(zero))\n",
    "df['logOriginalRating'] = df['originalRating'].apply(lambda x: np.log(x) if x != 0 else np.log(zero))"
   ]
  },
  {
   "cell_type": "code",
   "execution_count": 199,
   "metadata": {},
   "outputs": [],
   "source": [
    "# z score log rating\n",
    "# z score upvotes\n",
    "averageLogEnglishRating = statistics.mean(df['logEnglishRating'])\n",
    "averageLogOriginalRating = df.groupby('originalLanguage').apply(lambda x: statistics.mean(x['logOriginalRating']))\n",
    "stdevLogEnglishRating = statistics.stdev(df['logEnglishRating'])\n",
    "stdevLogOriginalRating = df.groupby('originalLanguage').apply(lambda x: statistics.stdev(x['logOriginalRating']))\n",
    "df['normalizedLogEnglishRating'] = df['logEnglishRating'].apply(lambda x: (x - averageLogEnglishRating) / stdevLogEnglishRating)\n",
    "df['normalizedLogOrginalRating'] = df.apply(lambda x: (x['logOriginalRating'] - averageLogOriginalRating[x['originalLanguage']]) / stdevLogOriginalRating[x['originalLanguage']], axis=1)"
   ]
  },
  {
   "cell_type": "code",
   "execution_count": 200,
   "metadata": {},
   "outputs": [
    {
     "data": {
      "image/png": "[encoded data removed]",
      "text/plain": [
       "<Figure size 432x288 with 1 Axes>"
      ]
     },
     "metadata": {
      "needs_background": "light"
     },
     "output_type": "display_data"
    }
   ],
   "source": [
    "plt.scatter(df['normalizedLogOrginalRating'], df['normalizedLogEnglishRating'])\n",
    "plt.show()"
   ]
  },
  {
   "cell_type": "code",
   "execution_count": 201,
   "metadata": {},
   "outputs": [
    {
     "data": {
      "text/html": [
       "<div>\n",
       "<style scoped>\n",
       "    .dataframe tbody tr th:only-of-type {\n",
       "        vertical-align: middle;\n",
       "    }\n",
       "\n",
       "    .dataframe tbody tr th {\n",
       "        vertical-align: top;\n",
       "    }\n",
       "\n",
       "    .dataframe thead th {\n",
       "        text-align: right;\n",
       "    }\n",
       "</style>\n",
       "<table border=\"1\" class=\"dataframe\">\n",
       "  <thead>\n",
       "    <tr style=\"text-align: right;\">\n",
       "      <th></th>\n",
       "      <th>scpId</th>\n",
       "      <th>englishRating</th>\n",
       "      <th>englishDate</th>\n",
       "      <th>englishAuthor</th>\n",
       "      <th>englishAuthorKarma</th>\n",
       "      <th>originalLanguage</th>\n",
       "      <th>originalAuthor</th>\n",
       "      <th>originalDate</th>\n",
       "      <th>originalRating</th>\n",
       "      <th>originalAuthorKarma</th>\n",
       "      <th>...</th>\n",
       "      <th>originalEntropy</th>\n",
       "      <th>englishEntropy</th>\n",
       "      <th>normalizedEnglishEntropy</th>\n",
       "      <th>normalizedOrginalEntropy</th>\n",
       "      <th>normalizedEnglishRating</th>\n",
       "      <th>normalizedOrginalRating</th>\n",
       "      <th>logEnglishRating</th>\n",
       "      <th>logOriginalRating</th>\n",
       "      <th>normalizedLogEnglishRating</th>\n",
       "      <th>normalizedLogOrginalRating</th>\n",
       "    </tr>\n",
       "  </thead>\n",
       "  <tbody>\n",
       "    <tr>\n",
       "      <th>0</th>\n",
       "      <td>SCP-CN-1000</td>\n",
       "      <td>12.0</td>\n",
       "      <td>29 Mar 2019 00:01</td>\n",
       "      <td>Cynthia7979</td>\n",
       "      <td>very high</td>\n",
       "      <td>chinese</td>\n",
       "      <td>Infas12</td>\n",
       "      <td>30 Oct 2018 15:25</td>\n",
       "      <td>574.0</td>\n",
       "      <td>very high</td>\n",
       "      <td>...</td>\n",
       "      <td>5.785991</td>\n",
       "      <td>6.013945</td>\n",
       "      <td>0.590733</td>\n",
       "      <td>0.806608</td>\n",
       "      <td>1.107338</td>\n",
       "      <td>1.677973</td>\n",
       "      <td>2.484907</td>\n",
       "      <td>6.352629</td>\n",
       "      <td>NaN</td>\n",
       "      <td>1.680044</td>\n",
       "    </tr>\n",
       "    <tr>\n",
       "      <th>1</th>\n",
       "      <td>SCP-CN-994</td>\n",
       "      <td>26.0</td>\n",
       "      <td>18 Mar 2018 07:50</td>\n",
       "      <td>W Asriel</td>\n",
       "      <td>guru</td>\n",
       "      <td>chinese</td>\n",
       "      <td>AndyBlocker</td>\n",
       "      <td>11 Mar 2018 01:28</td>\n",
       "      <td>858.0</td>\n",
       "      <td>high</td>\n",
       "      <td>...</td>\n",
       "      <td>2.700454</td>\n",
       "      <td>0.693147</td>\n",
       "      <td>-6.292733</td>\n",
       "      <td>-2.514344</td>\n",
       "      <td>3.591976</td>\n",
       "      <td>2.849803</td>\n",
       "      <td>3.258097</td>\n",
       "      <td>6.754604</td>\n",
       "      <td>NaN</td>\n",
       "      <td>2.028566</td>\n",
       "    </tr>\n",
       "    <tr>\n",
       "      <th>2</th>\n",
       "      <td>SCP-CN-918</td>\n",
       "      <td>4.0</td>\n",
       "      <td>04 May 2018 14:48</td>\n",
       "      <td>Idokoe</td>\n",
       "      <td>high</td>\n",
       "      <td>chinese</td>\n",
       "      <td>qjfoidnh</td>\n",
       "      <td>29 Apr 2018 15:46</td>\n",
       "      <td>49.0</td>\n",
       "      <td>very high</td>\n",
       "      <td>...</td>\n",
       "      <td>4.797172</td>\n",
       "      <td>4.774991</td>\n",
       "      <td>-1.012090</td>\n",
       "      <td>-0.257654</td>\n",
       "      <td>-0.312454</td>\n",
       "      <td>-0.488263</td>\n",
       "      <td>1.386294</td>\n",
       "      <td>3.891820</td>\n",
       "      <td>NaN</td>\n",
       "      <td>-0.453535</td>\n",
       "    </tr>\n",
       "    <tr>\n",
       "      <th>3</th>\n",
       "      <td>SCP-CN-844</td>\n",
       "      <td>0.0</td>\n",
       "      <td>20 Jul 2018 07:09</td>\n",
       "      <td>Cynthia7979</td>\n",
       "      <td>very high</td>\n",
       "      <td>chinese</td>\n",
       "      <td>Cynthia7979</td>\n",
       "      <td>02 Jun 2018 14:48</td>\n",
       "      <td>19.0</td>\n",
       "      <td>very high</td>\n",
       "      <td>...</td>\n",
       "      <td>5.343681</td>\n",
       "      <td>5.801107</td>\n",
       "      <td>0.315386</td>\n",
       "      <td>0.330552</td>\n",
       "      <td>-1.022351</td>\n",
       "      <td>-0.612048</td>\n",
       "      <td>-2.302585</td>\n",
       "      <td>2.944439</td>\n",
       "      <td>NaN</td>\n",
       "      <td>-1.274936</td>\n",
       "    </tr>\n",
       "    <tr>\n",
       "      <th>4</th>\n",
       "      <td>SCP-CN-767</td>\n",
       "      <td>11.0</td>\n",
       "      <td>10 Aug 2018 14:28</td>\n",
       "      <td>KirkeStein</td>\n",
       "      <td>high</td>\n",
       "      <td>chinese</td>\n",
       "      <td>breaddddd</td>\n",
       "      <td>15 Feb 2018 09:08</td>\n",
       "      <td>118.0</td>\n",
       "      <td>very high</td>\n",
       "      <td>...</td>\n",
       "      <td>3.184537</td>\n",
       "      <td>3.075841</td>\n",
       "      <td>-3.210265</td>\n",
       "      <td>-1.993327</td>\n",
       "      <td>0.929864</td>\n",
       "      <td>-0.203557</td>\n",
       "      <td>2.397895</td>\n",
       "      <td>4.770685</td>\n",
       "      <td>NaN</td>\n",
       "      <td>0.308461</td>\n",
       "    </tr>\n",
       "  </tbody>\n",
       "</table>\n",
       "<p>5 rows × 24 columns</p>\n",
       "</div>"
      ],
      "text/plain": [
       "         scpId  englishRating        englishDate englishAuthor  \\\n",
       "0  SCP-CN-1000           12.0  29 Mar 2019 00:01   Cynthia7979   \n",
       "1   SCP-CN-994           26.0  18 Mar 2018 07:50      W Asriel   \n",
       "2   SCP-CN-918            4.0  04 May 2018 14:48        Idokoe   \n",
       "3   SCP-CN-844            0.0  20 Jul 2018 07:09   Cynthia7979   \n",
       "4   SCP-CN-767           11.0  10 Aug 2018 14:28    KirkeStein   \n",
       "\n",
       "  englishAuthorKarma originalLanguage originalAuthor       originalDate  \\\n",
       "0          very high          chinese        Infas12  30 Oct 2018 15:25   \n",
       "1               guru          chinese    AndyBlocker  11 Mar 2018 01:28   \n",
       "2               high          chinese       qjfoidnh  29 Apr 2018 15:46   \n",
       "3          very high          chinese    Cynthia7979  02 Jun 2018 14:48   \n",
       "4               high          chinese      breaddddd  15 Feb 2018 09:08   \n",
       "\n",
       "   originalRating originalAuthorKarma             ...              \\\n",
       "0           574.0           very high             ...               \n",
       "1           858.0                high             ...               \n",
       "2            49.0           very high             ...               \n",
       "3            19.0           very high             ...               \n",
       "4           118.0           very high             ...               \n",
       "\n",
       "  originalEntropy englishEntropy  normalizedEnglishEntropy  \\\n",
       "0        5.785991       6.013945                  0.590733   \n",
       "1        2.700454       0.693147                 -6.292733   \n",
       "2        4.797172       4.774991                 -1.012090   \n",
       "3        5.343681       5.801107                  0.315386   \n",
       "4        3.184537       3.075841                 -3.210265   \n",
       "\n",
       "   normalizedOrginalEntropy  normalizedEnglishRating  normalizedOrginalRating  \\\n",
       "0                  0.806608                 1.107338                 1.677973   \n",
       "1                 -2.514344                 3.591976                 2.849803   \n",
       "2                 -0.257654                -0.312454                -0.488263   \n",
       "3                  0.330552                -1.022351                -0.612048   \n",
       "4                 -1.993327                 0.929864                -0.203557   \n",
       "\n",
       "   logEnglishRating  logOriginalRating  normalizedLogEnglishRating  \\\n",
       "0          2.484907           6.352629                         NaN   \n",
       "1          3.258097           6.754604                         NaN   \n",
       "2          1.386294           3.891820                         NaN   \n",
       "3         -2.302585           2.944439                         NaN   \n",
       "4          2.397895           4.770685                         NaN   \n",
       "\n",
       "   normalizedLogOrginalRating  \n",
       "0                    1.680044  \n",
       "1                    2.028566  \n",
       "2                   -0.453535  \n",
       "3                   -1.274936  \n",
       "4                    0.308461  \n",
       "\n",
       "[5 rows x 24 columns]"
      ]
     },
     "execution_count": 201,
     "metadata": {},
     "output_type": "execute_result"
    }
   ],
   "source": [
    "df.head()"
   ]
  },
  {
   "cell_type": "code",
   "execution_count": 202,
   "metadata": {},
   "outputs": [
    {
     "data": {
      "text/plain": [
       "nan"
      ]
     },
     "execution_count": 202,
     "metadata": {},
     "output_type": "execute_result"
    }
   ],
   "source": [
    "stdevLogEnglishRating"
   ]
  },
  {
   "cell_type": "code",
   "execution_count": 203,
   "metadata": {},
   "outputs": [
    {
     "data": {
      "text/plain": [
       "nan"
      ]
     },
     "execution_count": 203,
     "metadata": {},
     "output_type": "execute_result"
    }
   ],
   "source": [
    "statistics.stdev(df['logEnglishRating'])"
   ]
  },
  {
   "cell_type": "code",
   "execution_count": 204,
   "metadata": {},
   "outputs": [],
   "source": [
    "# giving up on that..."
   ]
  },
  {
   "cell_type": "code",
   "execution_count": 205,
   "metadata": {},
   "outputs": [],
   "source": [
    "df['deltaNormalizedEntropy'] = df['normalizedEnglishEntropy'] - df['normalizedOrginalEntropy']\n",
    "df['deltaNormalizedRating'] = df['normalizedEnglishRating'] - df['normalizedOrginalRating']\n",
    "df['deltaEntropy'] = df['englishEntropy'] - df['originalEntropy']\n",
    "df['deltaRating'] = df['englishRating'] - df['originalRating']"
   ]
  },
  {
   "cell_type": "code",
   "execution_count": 206,
   "metadata": {},
   "outputs": [
    {
     "data": {
      "image/png": "[encoded data removed]",
      "text/plain": [
       "<Figure size 432x288 with 1 Axes>"
      ]
     },
     "metadata": {
      "needs_background": "light"
     },
     "output_type": "display_data"
    },
    {
     "data": {
      "image/png": "[encoded data removed]",
      "text/plain": [
       "<Figure size 432x288 with 1 Axes>"
      ]
     },
     "metadata": {
      "needs_background": "light"
     },
     "output_type": "display_data"
    }
   ],
   "source": [
    "def ratingVsEntropy(stuff):\n",
    "    plt.scatter(stuff['deltaEntropy'], stuff['deltaRating'])\n",
    "    plt.show()\n",
    "def ratingVsEntropy_Normalized(stuff):\n",
    "    plt.scatter(stuff['deltaNormalizedEntropy'], stuff['deltaNormalizedRating'])\n",
    "    plt.show()\n",
    "ratingVsEntropy(df)\n",
    "ratingVsEntropy_Normalized(df)"
   ]
  },
  {
   "cell_type": "code",
   "execution_count": 207,
   "metadata": {},
   "outputs": [
    {
     "data": {
      "image/png": "[encoded data removed]",
      "text/plain": [
       "<Figure size 432x288 with 1 Axes>"
      ]
     },
     "metadata": {
      "needs_background": "light"
     },
     "output_type": "display_data"
    },
    {
     "data": {
      "image/png": "[encoded data removed]",
      "text/plain": [
       "<Figure size 432x288 with 1 Axes>"
      ]
     },
     "metadata": {
      "needs_background": "light"
     },
     "output_type": "display_data"
    },
    {
     "data": {
      "image/png": "[encoded data removed]",
      "text/plain": [
       "<Figure size 432x288 with 1 Axes>"
      ]
     },
     "metadata": {
      "needs_background": "light"
     },
     "output_type": "display_data"
    },
    {
     "data": {
      "image/png": "[encoded data removed]",
      "text/plain": [
       "<Figure size 432x288 with 1 Axes>"
      ]
     },
     "metadata": {
      "needs_background": "light"
     },
     "output_type": "display_data"
    },
    {
     "data": {
      "image/png": "[encoded data removed]",
      "text/plain": [
       "<Figure size 432x288 with 1 Axes>"
      ]
     },
     "metadata": {
      "needs_background": "light"
     },
     "output_type": "display_data"
    },
    {
     "data": {
      "image/png": "[encoded data removed]",
      "text/plain": [
       "<Figure size 432x288 with 1 Axes>"
      ]
     },
     "metadata": {
      "needs_background": "light"
     },
     "output_type": "display_data"
    },
    {
     "data": {
      "image/png": "[encoded data removed]",
      "text/plain": [
       "<Figure size 432x288 with 1 Axes>"
      ]
     },
     "metadata": {
      "needs_background": "light"
     },
     "output_type": "display_data"
    },
    {
     "data": {
      "image/png": "[encoded data removed]",
      "text/plain": [
       "<Figure size 432x288 with 1 Axes>"
      ]
     },
     "metadata": {
      "needs_background": "light"
     },
     "output_type": "display_data"
    },
    {
     "data": {
      "image/png": "[encoded data removed]",
      "text/plain": [
       "<Figure size 432x288 with 1 Axes>"
      ]
     },
     "metadata": {
      "needs_background": "light"
     },
     "output_type": "display_data"
    },
    {
     "data": {
      "image/png": "[encoded data removed]",
      "text/plain": [
       "<Figure size 432x288 with 1 Axes>"
      ]
     },
     "metadata": {
      "needs_background": "light"
     },
     "output_type": "display_data"
    },
    {
     "data": {
      "image/png": "[encoded data removed]",
      "text/plain": [
       "<Figure size 432x288 with 1 Axes>"
      ]
     },
     "metadata": {
      "needs_background": "light"
     },
     "output_type": "display_data"
    },
    {
     "data": {
      "text/html": [
       "<div>\n",
       "<style scoped>\n",
       "    .dataframe tbody tr th:only-of-type {\n",
       "        vertical-align: middle;\n",
       "    }\n",
       "\n",
       "    .dataframe tbody tr th {\n",
       "        vertical-align: top;\n",
       "    }\n",
       "\n",
       "    .dataframe thead th {\n",
       "        text-align: right;\n",
       "    }\n",
       "</style>\n",
       "<table border=\"1\" class=\"dataframe\">\n",
       "  <thead>\n",
       "    <tr style=\"text-align: right;\">\n",
       "      <th></th>\n",
       "    </tr>\n",
       "  </thead>\n",
       "  <tbody>\n",
       "  </tbody>\n",
       "</table>\n",
       "</div>"
      ],
      "text/plain": [
       "Empty DataFrame\n",
       "Columns: []\n",
       "Index: []"
      ]
     },
     "execution_count": 207,
     "metadata": {},
     "output_type": "execute_result"
    }
   ],
   "source": [
    "df.groupby('originalLanguage').apply(ratingVsEntropy_Normalized)"
   ]
  },
  {
   "cell_type": "code",
   "execution_count": 208,
   "metadata": {},
   "outputs": [
    {
     "data": {
      "text/plain": [
       "(array([ 7.,  0.,  5.,  0., 21.,  0., 23.,  0., 93., 64.]),\n",
       " array([0. , 0.5, 1. , 1.5, 2. , 2.5, 3. , 3.5, 4. , 4.5, 5. ]),\n",
       " <a list of 10 Patch objects>)"
      ]
     },
     "execution_count": 208,
     "metadata": {},
     "output_type": "execute_result"
    },
    {
     "data": {
      "image/png": "[encoded data removed]",
      "text/plain": [
       "<Figure size 432x288 with 1 Axes>"
      ]
     },
     "metadata": {
      "needs_background": "light"
     },
     "output_type": "display_data"
    }
   ],
   "source": [
    "plt.hist(df['translatorKarma'])"
   ]
  },
  {
   "cell_type": "code",
   "execution_count": 209,
   "metadata": {},
   "outputs": [
    {
     "data": {
      "text/plain": [
       "(array([ 6.,  0.,  5.,  0., 13.,  0., 33.,  0., 93., 63.]),\n",
       " array([0. , 0.5, 1. , 1.5, 2. , 2.5, 3. , 3.5, 4. , 4.5, 5. ]),\n",
       " <a list of 10 Patch objects>)"
      ]
     },
     "execution_count": 209,
     "metadata": {},
     "output_type": "execute_result"
    },
    {
     "data": {
      "image/png": "[encoded data removed]",
      "text/plain": [
       "<Figure size 432x288 with 1 Axes>"
      ]
     },
     "metadata": {
      "needs_background": "light"
     },
     "output_type": "display_data"
    }
   ],
   "source": [
    "plt.hist(df['authorKarma'])"
   ]
  },
  {
   "cell_type": "code",
   "execution_count": 210,
   "metadata": {},
   "outputs": [
    {
     "data": {
      "image/png": "[encoded data removed]",
      "text/plain": [
       "<Figure size 432x288 with 1 Axes>"
      ]
     },
     "metadata": {
      "needs_background": "light"
     },
     "output_type": "display_data"
    }
   ],
   "source": [
    "plt.scatter(df['authorKarma'], df['deltaEntropy'])\n",
    "plt.show()"
   ]
  },
  {
   "cell_type": "code",
   "execution_count": 211,
   "metadata": {},
   "outputs": [],
   "source": [
    "#df.groupby('englishAuthor').apply(lambda x: statistics.mean(x['englishRating']))"
   ]
  },
  {
   "cell_type": "code",
   "execution_count": 212,
   "metadata": {},
   "outputs": [
    {
     "data": {
      "text/plain": [
       "(array([ 1.,  1.,  1.,  1.,  3., 93., 88., 17.,  5.,  3.]),\n",
       " array([-2.85520375, -2.39124473, -1.9272857 , -1.46332668, -0.99936766,\n",
       "        -0.53540863, -0.07144961,  0.39250941,  0.85646844,  1.32042746,\n",
       "         1.78438649]),\n",
       " <a list of 10 Patch objects>)"
      ]
     },
     "execution_count": 212,
     "metadata": {},
     "output_type": "execute_result"
    },
    {
     "data": {
      "image/png": "[encoded data removed]",
      "text/plain": [
       "<Figure size 432x288 with 1 Axes>"
      ]
     },
     "metadata": {
      "needs_background": "light"
     },
     "output_type": "display_data"
    }
   ],
   "source": [
    "plt.hist(df['deltaEntropy'])"
   ]
  },
  {
   "cell_type": "code",
   "execution_count": 213,
   "metadata": {},
   "outputs": [
    {
     "data": {
      "image/png": "[encoded data removed]",
      "text/plain": [
       "<Figure size 432x288 with 1 Axes>"
      ]
     },
     "metadata": {
      "needs_background": "light"
     },
     "output_type": "display_data"
    }
   ],
   "source": [
    "plt.scatter(df['authorKarma'], df['normalizedOrginalRating'])\n",
    "plt.show()"
   ]
  },
  {
   "cell_type": "code",
   "execution_count": 214,
   "metadata": {},
   "outputs": [
    {
     "data": {
      "image/png": "[encoded data removed]",
      "text/plain": [
       "<Figure size 432x288 with 1 Axes>"
      ]
     },
     "metadata": {
      "needs_background": "light"
     },
     "output_type": "display_data"
    }
   ],
   "source": [
    "plt.scatter(df['translatorKarma'], df['englishRating'])\n",
    "plt.show()"
   ]
  },
  {
   "cell_type": "code",
   "execution_count": 215,
   "metadata": {},
   "outputs": [
    {
     "ename": "TypeError",
     "evalue": "Image data cannot be converted to float",
     "output_type": "error",
     "traceback": [
      "\u001b[0;31m---------------------------------------------------------------------------\u001b[0m",
      "\u001b[0;31mTypeError\u001b[0m                                 Traceback (most recent call last)",
      "\u001b[0;32m<ipython-input-215-9a057e26c869>\u001b[0m in \u001b[0;36m<module>\u001b[0;34m\u001b[0m\n\u001b[0;32m----> 1\u001b[0;31m \u001b[0mplt\u001b[0m\u001b[0;34m.\u001b[0m\u001b[0mimshow\u001b[0m\u001b[0;34m(\u001b[0m\u001b[0mzip\u001b[0m\u001b[0;34m(\u001b[0m\u001b[0mdf\u001b[0m\u001b[0;34m[\u001b[0m\u001b[0;34m'translatorKarma'\u001b[0m\u001b[0;34m]\u001b[0m\u001b[0;34m,\u001b[0m \u001b[0mdf\u001b[0m\u001b[0;34m[\u001b[0m\u001b[0;34m'authorKarma'\u001b[0m\u001b[0;34m]\u001b[0m\u001b[0;34m)\u001b[0m\u001b[0;34m)\u001b[0m\u001b[0;34m\u001b[0m\u001b[0;34m\u001b[0m\u001b[0m\n\u001b[0m\u001b[1;32m      2\u001b[0m \u001b[0mplt\u001b[0m\u001b[0;34m.\u001b[0m\u001b[0mshow\u001b[0m\u001b[0;34m(\u001b[0m\u001b[0;34m)\u001b[0m\u001b[0;34m\u001b[0m\u001b[0;34m\u001b[0m\u001b[0m\n",
      "\u001b[0;32m~/miniconda3/lib/python3.7/site-packages/matplotlib/pyplot.py\u001b[0m in \u001b[0;36mimshow\u001b[0;34m(X, cmap, norm, aspect, interpolation, alpha, vmin, vmax, origin, extent, shape, filternorm, filterrad, imlim, resample, url, data, **kwargs)\u001b[0m\n\u001b[1;32m   2699\u001b[0m         \u001b[0mfilternorm\u001b[0m\u001b[0;34m=\u001b[0m\u001b[0mfilternorm\u001b[0m\u001b[0;34m,\u001b[0m \u001b[0mfilterrad\u001b[0m\u001b[0;34m=\u001b[0m\u001b[0mfilterrad\u001b[0m\u001b[0;34m,\u001b[0m \u001b[0mimlim\u001b[0m\u001b[0;34m=\u001b[0m\u001b[0mimlim\u001b[0m\u001b[0;34m,\u001b[0m\u001b[0;34m\u001b[0m\u001b[0;34m\u001b[0m\u001b[0m\n\u001b[1;32m   2700\u001b[0m         resample=resample, url=url, **({\"data\": data} if data is not\n\u001b[0;32m-> 2701\u001b[0;31m         None else {}), **kwargs)\n\u001b[0m\u001b[1;32m   2702\u001b[0m     \u001b[0msci\u001b[0m\u001b[0;34m(\u001b[0m\u001b[0m__ret\u001b[0m\u001b[0;34m)\u001b[0m\u001b[0;34m\u001b[0m\u001b[0;34m\u001b[0m\u001b[0m\n\u001b[1;32m   2703\u001b[0m     \u001b[0;32mreturn\u001b[0m \u001b[0m__ret\u001b[0m\u001b[0;34m\u001b[0m\u001b[0;34m\u001b[0m\u001b[0m\n",
      "\u001b[0;32m~/miniconda3/lib/python3.7/site-packages/matplotlib/__init__.py\u001b[0m in \u001b[0;36minner\u001b[0;34m(ax, data, *args, **kwargs)\u001b[0m\n\u001b[1;32m   1808\u001b[0m                         \u001b[0;34m\"the Matplotlib list!)\"\u001b[0m \u001b[0;34m%\u001b[0m \u001b[0;34m(\u001b[0m\u001b[0mlabel_namer\u001b[0m\u001b[0;34m,\u001b[0m \u001b[0mfunc\u001b[0m\u001b[0;34m.\u001b[0m\u001b[0m__name__\u001b[0m\u001b[0;34m)\u001b[0m\u001b[0;34m,\u001b[0m\u001b[0;34m\u001b[0m\u001b[0;34m\u001b[0m\u001b[0m\n\u001b[1;32m   1809\u001b[0m                         RuntimeWarning, stacklevel=2)\n\u001b[0;32m-> 1810\u001b[0;31m             \u001b[0;32mreturn\u001b[0m \u001b[0mfunc\u001b[0m\u001b[0;34m(\u001b[0m\u001b[0max\u001b[0m\u001b[0;34m,\u001b[0m \u001b[0;34m*\u001b[0m\u001b[0margs\u001b[0m\u001b[0;34m,\u001b[0m \u001b[0;34m**\u001b[0m\u001b[0mkwargs\u001b[0m\u001b[0;34m)\u001b[0m\u001b[0;34m\u001b[0m\u001b[0;34m\u001b[0m\u001b[0m\n\u001b[0m\u001b[1;32m   1811\u001b[0m \u001b[0;34m\u001b[0m\u001b[0m\n\u001b[1;32m   1812\u001b[0m         inner.__doc__ = _add_data_doc(inner.__doc__,\n",
      "\u001b[0;32m~/miniconda3/lib/python3.7/site-packages/matplotlib/axes/_axes.py\u001b[0m in \u001b[0;36mimshow\u001b[0;34m(self, X, cmap, norm, aspect, interpolation, alpha, vmin, vmax, origin, extent, shape, filternorm, filterrad, imlim, resample, url, **kwargs)\u001b[0m\n\u001b[1;32m   5492\u001b[0m                               resample=resample, **kwargs)\n\u001b[1;32m   5493\u001b[0m \u001b[0;34m\u001b[0m\u001b[0m\n\u001b[0;32m-> 5494\u001b[0;31m         \u001b[0mim\u001b[0m\u001b[0;34m.\u001b[0m\u001b[0mset_data\u001b[0m\u001b[0;34m(\u001b[0m\u001b[0mX\u001b[0m\u001b[0;34m)\u001b[0m\u001b[0;34m\u001b[0m\u001b[0;34m\u001b[0m\u001b[0m\n\u001b[0m\u001b[1;32m   5495\u001b[0m         \u001b[0mim\u001b[0m\u001b[0;34m.\u001b[0m\u001b[0mset_alpha\u001b[0m\u001b[0;34m(\u001b[0m\u001b[0malpha\u001b[0m\u001b[0;34m)\u001b[0m\u001b[0;34m\u001b[0m\u001b[0;34m\u001b[0m\u001b[0m\n\u001b[1;32m   5496\u001b[0m         \u001b[0;32mif\u001b[0m \u001b[0mim\u001b[0m\u001b[0;34m.\u001b[0m\u001b[0mget_clip_path\u001b[0m\u001b[0;34m(\u001b[0m\u001b[0;34m)\u001b[0m \u001b[0;32mis\u001b[0m \u001b[0;32mNone\u001b[0m\u001b[0;34m:\u001b[0m\u001b[0;34m\u001b[0m\u001b[0;34m\u001b[0m\u001b[0m\n",
      "\u001b[0;32m~/miniconda3/lib/python3.7/site-packages/matplotlib/image.py\u001b[0m in \u001b[0;36mset_data\u001b[0;34m(self, A)\u001b[0m\n\u001b[1;32m    640\u001b[0m         if (self._A.dtype != np.uint8 and\n\u001b[1;32m    641\u001b[0m                 not np.can_cast(self._A.dtype, float, \"same_kind\")):\n\u001b[0;32m--> 642\u001b[0;31m             \u001b[0;32mraise\u001b[0m \u001b[0mTypeError\u001b[0m\u001b[0;34m(\u001b[0m\u001b[0;34m\"Image data cannot be converted to float\"\u001b[0m\u001b[0;34m)\u001b[0m\u001b[0;34m\u001b[0m\u001b[0;34m\u001b[0m\u001b[0m\n\u001b[0m\u001b[1;32m    643\u001b[0m \u001b[0;34m\u001b[0m\u001b[0m\n\u001b[1;32m    644\u001b[0m         if not (self._A.ndim == 2\n",
      "\u001b[0;31mTypeError\u001b[0m: Image data cannot be converted to float"
     ]
    },
    {
     "data": {
      "image/png": "[encoded data removed]",
      "text/plain": [
       "<Figure size 432x288 with 1 Axes>"
      ]
     },
     "metadata": {
      "needs_background": "light"
     },
     "output_type": "display_data"
    }
   ],
   "source": [
    "plt.imshow(zip(df['translatorKarma'], df['authorKarma']))\n",
    "plt.show()"
   ]
  },
  {
   "cell_type": "code",
   "execution_count": null,
   "metadata": {},
   "outputs": [],
   "source": [
    "eliminate = ['thai']\n",
    "eliminated = df[df['originalLanguage'].apply(lambda x: x not in eliminate)]\n"
   ]
  },
  {
   "cell_type": "code",
   "execution_count": null,
   "metadata": {},
   "outputs": [],
   "source": [
    "y_pos = np.arange(len(languages))\n",
    "plt.figure(figsize=(15,5))\n",
    "normalizedEntropy = df.groupby('originalLanguage').apply(lambda x: statistics.mean(x['deltaNormalizedEntropy']))\n",
    "plt.bar(y_pos, normalizedEntropy.values)\n",
    "plt.xticks(y_pos, normalizedEntropy.index)\n",
    "plt.show()"
   ]
  },
  {
   "cell_type": "code",
   "execution_count": null,
   "metadata": {},
   "outputs": [],
   "source": []
  }
 ],
 "metadata": {
  "kernelspec": {
   "display_name": "Python 3",
   "language": "python",
   "name": "python3"
  },
  "language_info": {
   "codemirror_mode": {
    "name": "ipython",
    "version": 3
   },
   "file_extension": ".py",
   "mimetype": "text/x-python",
   "name": "python",
   "nbconvert_exporter": "python",
   "pygments_lexer": "ipython3",
   "version": "3.7.1"
  }
 },
 "nbformat": 4,
 "nbformat_minor": 2
}
