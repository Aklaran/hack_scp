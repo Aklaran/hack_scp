{
 "cells": [
  {
   "cell_type": "markdown",
   "metadata": {},
   "source": [
    "# Data Anaysis Portion \n",
    "\n",
    "##### Plus Visualizations with matplotlib\n",
    "\n",
    "\n",
    "\n",
    "Setting up for the experiment:"
   ]
  },
  {
   "cell_type": "code",
   "execution_count": 10,
   "metadata": {},
   "outputs": [],
   "source": [
    "import matplotlib.pyplot as plt\n",
    "import seaborn\n",
    "import csv\n",
    "\n",
    "%matplotlib inline"
   ]
  },
  {
   "cell_type": "code",
   "execution_count": 13,
   "metadata": {},
   "outputs": [
    {
     "name": "stdout",
     "output_type": "stream",
     "text": [
      "Column names are scpId, href, name, englishRating, englishDate, englishAuthor, englishAuthorKarma, chineseRating, chineseDate, chineseAuthor, chineseAuthorKarma, kld\n",
      "\tSCP-CN-1000 works in the /scp-cn-1000 department, and was born in 2300.\n",
      "\tSCP-CN-994 works in the /scp-cn-994 department, and was born in I See You.\n",
      "\tSCP-CN-918 works in the /scp-cn-918 department, and was born in .\n",
      "\tSCP-CN-844 works in the /scp-cn-844 department, and was born in The Seed of Lovesickness.\n",
      "\tSCP-CN-767 works in the /scp-cn-767 department, and was born in Chart Syndrome.\n",
      "\tSCP-CN-713 works in the /scp-cn-713 department, and was born in Keyboard Fish.\n",
      "\tSCP-CN-675 works in the /scp-cn-675 department, and was born in The Great Kyet Khaewt Device.\n",
      "\tSCP-CN-666 works in the /scp-cn-666 department, and was born in Hold the Bottom Line.\n",
      "\tSCP-CN-546 works in the /scp-cn-546 department, and was born in Our Secrets.\n",
      "\tSCP-CN-463 works in the /scp-cn-463 department, and was born in Grandma(Archived).\n",
      "\tSCP-CN-369 works in the /scp-cn-369 department, and was born in Self-Declaration Rostrum.\n",
      "\tSCP-CN-312 works in the /scp-cn-312 department, and was born in What Does She Know?.\n",
      "\tSCP-CN-176 works in the /scp-cn-176 department, and was born in Uncle Sweets.\n",
      "\tSCP-CN-166 works in the /scp-cn-166 department, and was born in Embryos.\n",
      "\tSCP-CN-048 works in the /scp-cn-048 department, and was born in A Failed Attempt.\n",
      "Processed 16 lines.\n"
     ]
    },
    {
     "data": {
      "image/png": "[encoded data removed]",
      "text/plain": [
       "<Figure size 432x288 with 1 Axes>"
      ]
     },
     "metadata": {},
     "output_type": "display_data"
    }
   ],
   "source": [
    "# plt.figure(figsize=(12,2.5))\n",
    "\n",
    "\n",
    "\n",
    "with open('./kld/chinese-kld.csv') as csv_file:\n",
    "    csv_reader = csv.reader(csv_file, delimiter=',')\n",
    "    line_count = 0\n",
    "    for row in csv_reader:\n",
    "        if line_count != 0:\n",
    "            \n",
    "            print(f'Column names are {\", \".join(row)}')\n",
    "            line_count += 1\n",
    "        else:\n",
    "            print(f'\\t{row[0]} works in the {row[1]} department, and was born in {row[2]}.')\n",
    "            line_count += 1\n",
    "    print(f'Processed {line_count} lines.')\n",
    "\n",
    "\n",
    "# avg kld VS. language \n",
    "# kld VS. kudos \n",
    "\n",
    "x_values = [10,20,30,40,50]\n",
    "y1_values = [100, 50, 75, 40, 80]\n",
    "\n",
    "plt.plot(x_values, y1_values)\n",
    "\n",
    "# use the same x-values but different y-values\n",
    "y2_values = [10, 75, 25, 80, 40]\n",
    "\n",
    "plt.plot(x_values, y2_values )\n",
    "\n",
    "plt.legend(['line 1','line 2'])\n",
    "plt.show()"
   ]
  },
  {
   "cell_type": "code",
   "execution_count": null,
   "metadata": {},
   "outputs": [],
   "source": []
  }
 ],
 "metadata": {
  "kernelspec": {
   "display_name": "Python 3",
   "language": "python",
   "name": "python3"
  },
  "language_info": {
   "codemirror_mode": {
    "name": "ipython",
    "version": 3
   },
   "file_extension": ".py",
   "mimetype": "text/x-python",
   "name": "python",
   "nbconvert_exporter": "python",
   "pygments_lexer": "ipython3",
   "version": "3.6.6"
  }
 },
 "nbformat": 4,
 "nbformat_minor": 2
}
