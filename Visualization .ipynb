{
 "cells": [
  {
   "cell_type": "code",
   "execution_count": null,
   "metadata": {},
   "outputs": [],
   "source": []
  },
  {
   "cell_type": "code",
   "execution_count": null,
   "metadata": {},
   "outputs": [],
   "source": [
    "Data Analysis Portion\n",
    "Visualizations\n",
    "\n",
    "import matplotlib.pyplot as plt\n",
    "import seaborn\n",
    "​\n",
    "%matplotlib inline\n",
    "# plt.figure(figsize=(12,2.5))\n",
    "​\n",
    "# random values for x and y\n",
    "​\n",
    "# avg kld VS. language \n",
    "# kld VS. kudos \n",
    "​\n",
    "​\n",
    "​\n",
    "x_values = [10,20,30,40,50]\n",
    "y1_values = [100, 50, 75, 40, 80]\n",
    "​\n",
    "plt.plot(x_values, y1_values)\n",
    "​\n",
    "# use the same x-values but different y-values\n",
    "y2_values = [10, 75, 25, 80, 40]\n",
    "​\n",
    "plt.plot(x_values, y2_values )\n",
    "​\n",
    "plt.legend(['line 1','line 2'])\n",
    "plt.show()"
   ]
  }
 ],
 "metadata": {
  "kernelspec": {
   "display_name": "Python 3",
   "language": "python",
   "name": "python3"
  },
  "language_info": {
   "codemirror_mode": {
    "name": "ipython",
    "version": 3
   },
   "file_extension": ".py",
   "mimetype": "text/x-python",
   "name": "python",
   "nbconvert_exporter": "python",
   "pygments_lexer": "ipython3",
   "version": "3.6.6"
  }
 },
 "nbformat": 4,
 "nbformat_minor": 2
}
