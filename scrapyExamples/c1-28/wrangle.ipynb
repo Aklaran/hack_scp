{
 "cells": [
  {
   "cell_type": "code",
   "execution_count": 50,
   "metadata": {},
   "outputs": [],
   "source": [
    "import pandas as pd\n",
    "\n",
    "df = pd.read_csv('raw.csv')\n",
    "df['location'] = df['location'].apply(lambda x: str(x).replace('(','').replace(')','').strip())\n",
    "df['price'] = df['price'].apply(lambda x: int(x.replace('$', '')))\n",
    "df['size'] = df['size'].apply(lambda x: str(x).strip().replace('\\n','').replace(' - ', ',')[:-2])\n",
    "df.to_csv('clean.csv')\n"
   ]
  },
  {
   "cell_type": "code",
   "execution_count": null,
   "metadata": {},
   "outputs": [],
   "source": []
  }
 ],
 "metadata": {
  "kernelspec": {
   "display_name": "Python 3",
   "language": "python",
   "name": "python3"
  },
  "language_info": {
   "codemirror_mode": {
    "name": "ipython",
    "version": 3
   },
   "file_extension": ".py",
   "mimetype": "text/x-python",
   "name": "python",
   "nbconvert_exporter": "python",
   "pygments_lexer": "ipython3",
   "version": "3.7.1"
  }
 },
 "nbformat": 4,
 "nbformat_minor": 2
}
