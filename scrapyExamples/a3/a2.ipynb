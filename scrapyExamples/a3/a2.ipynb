{
 "cells": [
  {
   "cell_type": "markdown",
   "metadata": {},
   "source": [
    "# Assignment 2\n",
    "## Matthew Kern (mjkern)\n",
    "### Setup:"
   ]
  },
  {
   "cell_type": "code",
   "execution_count": 1,
   "metadata": {},
   "outputs": [],
   "source": [
    "# toggle where to load the files from\n",
    "UseGitHub = True # True\n",
    "if UseGitHub:\n",
    "    prefix = 'https://raw.githubusercontent.com/ProfRaja/67364/master/data/a2/'\n",
    "else:\n",
    "    prefix = '' # load locally\n",
    "\n",
    "expeditions_xls = prefix + 'Expeditions.xls'\n",
    "titles_sv = prefix + 'titles.csv'\n",
    "cast_csv = prefix + 'cast_4_1960.csv'\n",
    "release_dates_csv = prefix + 'release_dates.csv'\n",
    "\n",
    "# import libraries\n",
    "import pandas as pd\n",
    "import numpy as np\n",
    "import matplotlib.pyplot as plt"
   ]
  },
  {
   "cell_type": "markdown",
   "metadata": {},
   "source": [
    "### Part 1: Pivot Tables\n",
    "Creating the desired pivot table"
   ]
  },
  {
   "cell_type": "code",
   "execution_count": 2,
   "metadata": {
    "scrolled": true
   },
   "outputs": [
    {
     "data": {
      "text/html": [
       "<div>\n",
       "<style scoped>\n",
       "    .dataframe tbody tr th:only-of-type {\n",
       "        vertical-align: middle;\n",
       "    }\n",
       "\n",
       "    .dataframe tbody tr th {\n",
       "        vertical-align: top;\n",
       "    }\n",
       "\n",
       "    .dataframe thead th {\n",
       "        text-align: right;\n",
       "    }\n",
       "</style>\n",
       "<table border=\"1\" class=\"dataframe\">\n",
       "  <thead>\n",
       "    <tr style=\"text-align: right;\">\n",
       "      <th>HOW</th>\n",
       "      <th>Catalog</th>\n",
       "      <th>Store</th>\n",
       "      <th>Web</th>\n",
       "      <th>Total</th>\n",
       "    </tr>\n",
       "    <tr>\n",
       "      <th>WHERE</th>\n",
       "      <th></th>\n",
       "      <th></th>\n",
       "      <th></th>\n",
       "      <th></th>\n",
       "    </tr>\n",
       "  </thead>\n",
       "  <tbody>\n",
       "    <tr>\n",
       "      <th>London</th>\n",
       "      <td>50310</td>\n",
       "      <td>151015</td>\n",
       "      <td>13009</td>\n",
       "      <td>214334</td>\n",
       "    </tr>\n",
       "    <tr>\n",
       "      <th>New York</th>\n",
       "      <td>8712</td>\n",
       "      <td>28060</td>\n",
       "      <td>2351</td>\n",
       "      <td>39123</td>\n",
       "    </tr>\n",
       "    <tr>\n",
       "      <th>Paris</th>\n",
       "      <td>32166</td>\n",
       "      <td>104083</td>\n",
       "      <td>7054</td>\n",
       "      <td>143303</td>\n",
       "    </tr>\n",
       "    <tr>\n",
       "      <th>Sydney</th>\n",
       "      <td>5471</td>\n",
       "      <td>21769</td>\n",
       "      <td>2749</td>\n",
       "      <td>29989</td>\n",
       "    </tr>\n",
       "    <tr>\n",
       "      <th>Tokyo</th>\n",
       "      <td>12103</td>\n",
       "      <td>42610</td>\n",
       "      <td>2003</td>\n",
       "      <td>56716</td>\n",
       "    </tr>\n",
       "    <tr>\n",
       "      <th>Total</th>\n",
       "      <td>108762</td>\n",
       "      <td>347537</td>\n",
       "      <td>27166</td>\n",
       "      <td>483465</td>\n",
       "    </tr>\n",
       "  </tbody>\n",
       "</table>\n",
       "</div>"
      ],
      "text/plain": [
       "HOW       Catalog   Store    Web   Total\n",
       "WHERE                                   \n",
       "London      50310  151015  13009  214334\n",
       "New York     8712   28060   2351   39123\n",
       "Paris       32166  104083   7054  143303\n",
       "Sydney       5471   21769   2749   29989\n",
       "Tokyo       12103   42610   2003   56716\n",
       "Total      108762  347537  27166  483465"
      ]
     },
     "execution_count": 2,
     "metadata": {},
     "output_type": "execute_result"
    }
   ],
   "source": [
    "# read data from excel file\n",
    "exped = pd.read_excel(expeditions_xls)\n",
    "\n",
    "# creat the pivot table\n",
    "result = exped.pivot_table(index='WHERE',\n",
    "                 columns='HOW',\n",
    "                 values='REVENUE',\n",
    "                 aggfunc=np.sum)\n",
    "\n",
    "# add the total row/column\n",
    "result['Total'] = result.sum(axis=1)\n",
    "result.loc['Total'] = result.sum()\n",
    "result"
   ]
  },
  {
   "cell_type": "markdown",
   "metadata": {},
   "source": [
    "### Part 2: Data Cleansing and Plotting\n",
    "This is data from wikipedia's list of tallest buildings and structures analyzed with Benford's Law"
   ]
  },
  {
   "cell_type": "code",
   "execution_count": 3,
   "metadata": {},
   "outputs": [
    {
     "data": {
      "image/png": "[encoded data removed]",
      "text/plain": [
       "<Figure size 432x288 with 1 Axes>"
      ]
     },
     "metadata": {
      "needs_background": "light"
     },
     "output_type": "display_data"
    }
   ],
   "source": [
    "### plot curve for Benford's law ###\n",
    "\n",
    "x = np.linspace(1, 9, 100) # use lots of points for a smooth curve\n",
    "y = np.log10(1 + (1 / x)) # fing the y value for each point\n",
    "plt.plot(x, y, label=\"Benford's predicted frequency\") # and plot it\n",
    "\n",
    "### plot a histgoram of the leading digits ###\n",
    "### of heights of the talllest buildings   ###\n",
    "\n",
    "# start by getting the info from wikipedia\n",
    "link = 'https://en.wikipedia.org/wiki/List_of_tallest_buildings_and_structures'\n",
    "tbls = pd.read_html(link)\n",
    "buildings = tbls[3] # the table we want is at index 3\n",
    "\n",
    "# move the top row to the comumn names\n",
    "buildings.columns = buildings.loc[0]\n",
    "buildings = buildings.drop([0, 1])\n",
    "\n",
    "# plot the histogram on the same graph\n",
    "# tricky lambda gets the first digit of the number\n",
    "plt.hist(x=buildings['Height (feet)'].apply(lambda x: int(x[0])), \n",
    "         density=True, # density flag makes this a frequency histogram\n",
    "         label='Leading digit of height in feet')\n",
    "\n",
    "# now do the same thing for meters\n",
    "plt.hist(x=buildings['Height (meters)'].apply(lambda x: int(x[0])),\n",
    "         density=True,\n",
    "         rwidth=0.5, # make the bars narrow so you can see both plots\n",
    "         label='Leading digit of height in meters') \n",
    "### and make it all nice ###\n",
    "plt.title(\"Benford's Law and Tall Buildings\")\n",
    "plt.legend()\n",
    "plt.xlabel('Leading Digit')\n",
    "plt.ylabel('Relative Frequency')\n",
    "\n",
    "plt.show()"
   ]
  },
  {
   "cell_type": "markdown",
   "metadata": {},
   "source": [
    "### Part 3: Simple question from the IMDB\n",
    "The following questions will use the data sets read in below."
   ]
  },
  {
   "cell_type": "code",
   "execution_count": 4,
   "metadata": {},
   "outputs": [],
   "source": [
    "cast = pd.read_csv(cast_csv)\n",
    "releases = pd.read_csv(release_dates_csv)\n",
    "titles = pd.read_csv(titles_sv)"
   ]
  },
  {
   "cell_type": "markdown",
   "metadata": {},
   "source": [
    "#### a) The ten most common movie names\n",
    "The following code determines the ten most common movie names in the data set by finding the count of each unique title, sorting it by the count, and then listing the first 10 items. The titles are reported in descending order of frequency, ties being broken arbitrarily."
   ]
  },
  {
   "cell_type": "code",
   "execution_count": 5,
   "metadata": {},
   "outputs": [
    {
     "data": {
      "text/plain": [
       "Hamlet                  20\n",
       "Carmen                  16\n",
       "Macbeth                 15\n",
       "The Outsider            12\n",
       "Maya                    12\n",
       "Freedom                 11\n",
       "The Three Musketeers    11\n",
       "Kismet                  11\n",
       "Temptation              11\n",
       "Othello                 11\n",
       "Name: title, dtype: int64"
      ]
     },
     "execution_count": 5,
     "metadata": {},
     "output_type": "execute_result"
    }
   ],
   "source": [
    "titles['title'].value_counts().sort_values(ascending=False).head(10)"
   ]
  },
  {
   "cell_type": "markdown",
   "metadata": {},
   "source": [
    "#### b) Plot of the number of films released in each decade\n",
    "The following code plots a histogram of the number of films released by decade by creating a histogram of the years when films are released and making a bin (a bar) for each decade."
   ]
  },
  {
   "cell_type": "code",
   "execution_count": 6,
   "metadata": {
    "scrolled": true
   },
   "outputs": [
    {
     "data": {
      "image/png": "[encoded data removed]",
      "text/plain": [
       "<Figure size 432x288 with 1 Axes>"
      ]
     },
     "metadata": {
      "needs_background": "light"
     },
     "output_type": "display_data"
    }
   ],
   "source": [
    "plt.hist(releases['year'],\n",
    "         bins=range(1910,2030,10)) # bins by decade\n",
    "plt.title('Films Released by Decade')\n",
    "plt.xlabel('Decade')\n",
    "plt.ylabel('Total Films Released')\n",
    "plt.show()"
   ]
  },
  {
   "cell_type": "markdown",
   "metadata": {},
   "source": [
    "#### c) Same plot, made with groupby()\n",
    "The following code creates the same plot as above (the films by decade) but this time the films are grouped by decade and counted, and then these values are used to create a bar chart with essentially the same information as the histogram above."
   ]
  },
  {
   "cell_type": "code",
   "execution_count": 7,
   "metadata": {},
   "outputs": [
    {
     "data": {
      "image/png": "[encoded data removed]",
      "text/plain": [
       "<Figure size 432x288 with 1 Axes>"
      ]
     },
     "metadata": {
      "needs_background": "light"
     },
     "output_type": "display_data"
    }
   ],
   "source": [
    "# create a decade column\n",
    "releases['decade'] = releases['year']//10*10\n",
    "\n",
    "# group by it and get the size of the groups\n",
    "grouped = releases.groupby(by='decade').apply(len)\n",
    "\n",
    "# create the bar chart (width is purely aesthetic)\n",
    "plt.bar(grouped.index, grouped.values, width=8)\n",
    "plt.title('Films Released by Decade')\n",
    "plt.xlabel('Decade')\n",
    "plt.ylabel('Total Films Released')\n",
    "plt.show()"
   ]
  },
  {
   "cell_type": "markdown",
   "metadata": {},
   "source": [
    "#### d) Months with USA release dates of films with Tom Cruise\n",
    "The following code creates a histogram showing the release month (as an integer) of films released in the US featuring Tom Cruise. It merges the release and cast data and then repeatedly used boolean masks to filter out the unwanted information."
   ]
  },
  {
   "cell_type": "code",
   "execution_count": 8,
   "metadata": {},
   "outputs": [
    {
     "data": {
      "image/png": "[encoded data removed]",
      "text/plain": [
       "<Figure size 432x288 with 1 Axes>"
      ]
     },
     "metadata": {
      "needs_background": "light"
     },
     "output_type": "display_data"
    }
   ],
   "source": [
    "# merge the data sets\n",
    "df = releases.merge(cast)\n",
    "\n",
    "# use boolean masks to select USA releases of tom cruise movies\n",
    "bm1 = df['name'] == 'Tom Cruise'\n",
    "tc_movies = df.loc[bm1]\n",
    "bm2 = tc_movies['country'] == 'USA'\n",
    "# tricky lambda get the month as an integer\n",
    "result = tc_movies[bm2]['date'].apply(lambda d: int(d[5:7])).value_counts()\n",
    "\n",
    "# and make the plot\n",
    "plt.bar(result.index, result.values)\n",
    "plt.title('US Release Dates of Tom Cruise Films')\n",
    "plt.xlabel('Month')\n",
    "plt.ylabel('Number of Films')\n",
    "plt.show()"
   ]
  },
  {
   "cell_type": "markdown",
   "metadata": {},
   "source": [
    "#### e) My Own Query\n",
    "Which country had the highest ratio of actresses to actors in their films?\n",
    "\n",
    "The works by merging information about releases and casts, counting the actors and actresses for each country, re-merging the actor and actress information together, calculation the ratio and then finding the maximum."
   ]
  },
  {
   "cell_type": "code",
   "execution_count": 9,
   "metadata": {},
   "outputs": [
    {
     "ename": "NameError",
     "evalue": "name 'bm' is not defined",
     "output_type": "error",
     "traceback": [
      "\u001b[0;31m---------------------------------------------------------------------------\u001b[0m",
      "\u001b[0;31mNameError\u001b[0m                                 Traceback (most recent call last)",
      "\u001b[0;32m<ipython-input-9-cb043832f509>\u001b[0m in \u001b[0;36m<module>\u001b[0;34m\u001b[0m\n\u001b[1;32m      4\u001b[0m \u001b[0;31m# get the count of actors and actresses for each country\u001b[0m\u001b[0;34m\u001b[0m\u001b[0;34m\u001b[0m\u001b[0;34m\u001b[0m\u001b[0m\n\u001b[1;32m      5\u001b[0m \u001b[0mbm1\u001b[0m \u001b[0;34m=\u001b[0m \u001b[0mdf\u001b[0m\u001b[0;34m[\u001b[0m\u001b[0;34m'type'\u001b[0m\u001b[0;34m]\u001b[0m \u001b[0;34m==\u001b[0m \u001b[0;34m'actress'\u001b[0m\u001b[0;34m\u001b[0m\u001b[0;34m\u001b[0m\u001b[0m\n\u001b[0;32m----> 6\u001b[0;31m \u001b[0mactresses\u001b[0m \u001b[0;34m=\u001b[0m \u001b[0mdf\u001b[0m\u001b[0;34m[\u001b[0m\u001b[0mbm\u001b[0m\u001b[0;34m]\u001b[0m\u001b[0;34m[\u001b[0m\u001b[0;34m'country'\u001b[0m\u001b[0;34m]\u001b[0m\u001b[0;34m.\u001b[0m\u001b[0mvalue_counts\u001b[0m\u001b[0;34m(\u001b[0m\u001b[0;34m)\u001b[0m\u001b[0;34m\u001b[0m\u001b[0;34m\u001b[0m\u001b[0m\n\u001b[0m\u001b[1;32m      7\u001b[0m \u001b[0mbm2\u001b[0m \u001b[0;34m=\u001b[0m \u001b[0mdf\u001b[0m\u001b[0;34m[\u001b[0m\u001b[0;34m'type'\u001b[0m\u001b[0;34m]\u001b[0m \u001b[0;34m==\u001b[0m \u001b[0;34m'actor'\u001b[0m\u001b[0;34m\u001b[0m\u001b[0;34m\u001b[0m\u001b[0m\n\u001b[1;32m      8\u001b[0m \u001b[0mactors\u001b[0m \u001b[0;34m=\u001b[0m \u001b[0mdf\u001b[0m\u001b[0;34m[\u001b[0m\u001b[0mbm2\u001b[0m\u001b[0;34m]\u001b[0m\u001b[0;34m[\u001b[0m\u001b[0;34m'country'\u001b[0m\u001b[0;34m]\u001b[0m\u001b[0;34m.\u001b[0m\u001b[0mvalue_counts\u001b[0m\u001b[0;34m(\u001b[0m\u001b[0;34m)\u001b[0m\u001b[0;34m\u001b[0m\u001b[0;34m\u001b[0m\u001b[0m\n",
      "\u001b[0;31mNameError\u001b[0m: name 'bm' is not defined"
     ]
    }
   ],
   "source": [
    "# merge the cast and release data\n",
    "df = releases.merge(cast)\n",
    "\n",
    "# get the count of actors and actresses for each country\n",
    "bm1 = df['type'] == 'actress'\n",
    "actresses = df[bm]['country'].value_counts()\n",
    "bm2 = df['type'] == 'actor'\n",
    "actors = df[bm2]['country'].value_counts()\n",
    "\n",
    "# merge the counts for actors and actresses for each country\n",
    "# silently get rid of countries that don't have both\n",
    "#     (and thus could have an undefined ratio)\n",
    "merged = pd.DataFrame({'country' : actresses.index, \n",
    "                       'actresses' : actresses.values}\n",
    "                     ).merge(\n",
    "         pd.DataFrame({'country' : actors.index,\n",
    "                       'actors' : actors.values}))\n",
    "\n",
    "# calculate the ratio and get the max\n",
    "merged['ratio'] = merged['actresses'] / merged['actors']\n",
    "merged.sort_values('ratio', ascending=False).head(1)\n"
   ]
  }
 ],
 "metadata": {
  "kernelspec": {
   "display_name": "Python 3",
   "language": "python",
   "name": "python3"
  },
  "language_info": {
   "codemirror_mode": {
    "name": "ipython",
    "version": 3
   },
   "file_extension": ".py",
   "mimetype": "text/x-python",
   "name": "python",
   "nbconvert_exporter": "python",
   "pygments_lexer": "ipython3",
   "version": "3.7.1"
  }
 },
 "nbformat": 4,
 "nbformat_minor": 2
}
